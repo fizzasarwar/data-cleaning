{
 "cells": [
  {
   "cell_type": "code",
   "execution_count": 1,
   "metadata": {},
   "outputs": [],
   "source": [
    "import pandas as pd\n",
    "import numpy as np"
   ]
  },
  {
   "cell_type": "code",
   "execution_count": 2,
   "metadata": {},
   "outputs": [
    {
     "data": {
      "text/html": [
       "<div>\n",
       "<style scoped>\n",
       "    .dataframe tbody tr th:only-of-type {\n",
       "        vertical-align: middle;\n",
       "    }\n",
       "\n",
       "    .dataframe tbody tr th {\n",
       "        vertical-align: top;\n",
       "    }\n",
       "\n",
       "    .dataframe thead th {\n",
       "        text-align: right;\n",
       "    }\n",
       "</style>\n",
       "<table border=\"1\" class=\"dataframe\">\n",
       "  <thead>\n",
       "    <tr style=\"text-align: right;\">\n",
       "      <th></th>\n",
       "      <th>Title</th>\n",
       "      <th>Artist</th>\n",
       "      <th>Nationality</th>\n",
       "      <th>BeginDate</th>\n",
       "      <th>EndDate</th>\n",
       "      <th>Gender</th>\n",
       "      <th>Date</th>\n",
       "      <th>Department</th>\n",
       "    </tr>\n",
       "  </thead>\n",
       "  <tbody>\n",
       "    <tr>\n",
       "      <th>0</th>\n",
       "      <td>Dress MacLeod from Tartan Sets</td>\n",
       "      <td>Sarah Charlesworth</td>\n",
       "      <td>(American)</td>\n",
       "      <td>-1947.0</td>\n",
       "      <td>-2013.0</td>\n",
       "      <td>(Female)</td>\n",
       "      <td>1986</td>\n",
       "      <td>Prints &amp; Illustrated Books</td>\n",
       "    </tr>\n",
       "    <tr>\n",
       "      <th>1</th>\n",
       "      <td>Duplicate of plate from folio 11 verso (supple...</td>\n",
       "      <td>Pablo Palazuelo</td>\n",
       "      <td>(Spanish)</td>\n",
       "      <td>-1916.0</td>\n",
       "      <td>-2007.0</td>\n",
       "      <td>(Male)</td>\n",
       "      <td>1978</td>\n",
       "      <td>Prints &amp; Illustrated Books</td>\n",
       "    </tr>\n",
       "    <tr>\n",
       "      <th>2</th>\n",
       "      <td>Tailpiece (page 55) from SAGESSE</td>\n",
       "      <td>Maurice Denis</td>\n",
       "      <td>(French)</td>\n",
       "      <td>-1870.0</td>\n",
       "      <td>-1943.0</td>\n",
       "      <td>(Male)</td>\n",
       "      <td>1889-1911</td>\n",
       "      <td>Prints &amp; Illustrated Books</td>\n",
       "    </tr>\n",
       "    <tr>\n",
       "      <th>3</th>\n",
       "      <td>Headpiece (page 129) from LIVRET DE FOLASTRIES...</td>\n",
       "      <td>Aristide Maillol</td>\n",
       "      <td>(French)</td>\n",
       "      <td>-1861.0</td>\n",
       "      <td>-1944.0</td>\n",
       "      <td>(Male)</td>\n",
       "      <td>1927-1940</td>\n",
       "      <td>Prints &amp; Illustrated Books</td>\n",
       "    </tr>\n",
       "    <tr>\n",
       "      <th>4</th>\n",
       "      <td>97 rue du Bac</td>\n",
       "      <td>Eugène Atget</td>\n",
       "      <td>(French)</td>\n",
       "      <td>-1857.0</td>\n",
       "      <td>-1927.0</td>\n",
       "      <td>(Male)</td>\n",
       "      <td>1903</td>\n",
       "      <td>Photography</td>\n",
       "    </tr>\n",
       "  </tbody>\n",
       "</table>\n",
       "</div>"
      ],
      "text/plain": [
       "                                               Title              Artist  \\\n",
       "0                     Dress MacLeod from Tartan Sets  Sarah Charlesworth   \n",
       "1  Duplicate of plate from folio 11 verso (supple...     Pablo Palazuelo   \n",
       "2                   Tailpiece (page 55) from SAGESSE       Maurice Denis   \n",
       "3  Headpiece (page 129) from LIVRET DE FOLASTRIES...    Aristide Maillol   \n",
       "4                                      97 rue du Bac        Eugène Atget   \n",
       "\n",
       "  Nationality  BeginDate  EndDate    Gender       Date  \\\n",
       "0  (American)    -1947.0  -2013.0  (Female)       1986   \n",
       "1   (Spanish)    -1916.0  -2007.0    (Male)       1978   \n",
       "2    (French)    -1870.0  -1943.0    (Male)  1889-1911   \n",
       "3    (French)    -1861.0  -1944.0    (Male)  1927-1940   \n",
       "4    (French)    -1857.0  -1927.0    (Male)       1903   \n",
       "\n",
       "                   Department  \n",
       "0  Prints & Illustrated Books  \n",
       "1  Prints & Illustrated Books  \n",
       "2  Prints & Illustrated Books  \n",
       "3  Prints & Illustrated Books  \n",
       "4                 Photography  "
      ]
     },
     "execution_count": 2,
     "metadata": {},
     "output_type": "execute_result"
    }
   ],
   "source": [
    "dataset = pd.read_csv(\"artworks.csv\")\n",
    "dataset.head()"
   ]
  },
  {
   "cell_type": "code",
   "execution_count": 3,
   "metadata": {},
   "outputs": [
    {
     "name": "stdout",
     "output_type": "stream",
     "text": [
      "<class 'pandas.core.frame.DataFrame'>\n",
      "RangeIndex: 16729 entries, 0 to 16728\n",
      "Data columns (total 8 columns):\n",
      " #   Column       Non-Null Count  Dtype  \n",
      "---  ------       --------------  -----  \n",
      " 0   Title        16728 non-null  object \n",
      " 1   Artist       16729 non-null  object \n",
      " 2   Nationality  16729 non-null  object \n",
      " 3   BeginDate    15787 non-null  float64\n",
      " 4   EndDate      10475 non-null  float64\n",
      " 5   Gender       16729 non-null  object \n",
      " 6   Date         16729 non-null  object \n",
      " 7   Department   16729 non-null  object \n",
      "dtypes: float64(2), object(6)\n",
      "memory usage: 1.0+ MB\n"
     ]
    }
   ],
   "source": [
    "dataset.info()"
   ]
  },
  {
   "cell_type": "code",
   "execution_count": 4,
   "metadata": {},
   "outputs": [],
   "source": [
    "dataset[\"Nationality\"] = dataset[\"Nationality\"].str.strip(\"()\")"
   ]
  },
  {
   "cell_type": "code",
   "execution_count": 5,
   "metadata": {},
   "outputs": [
    {
     "name": "stdout",
     "output_type": "stream",
     "text": [
      "(Dan(ial)\n"
     ]
    }
   ],
   "source": [
    "print(\"(Dan(ial)'\".strip(\"'\"))"
   ]
  },
  {
   "cell_type": "code",
   "execution_count": 6,
   "metadata": {},
   "outputs": [
    {
     "data": {
      "text/plain": [
       "'Danial)'"
      ]
     },
     "execution_count": 6,
     "metadata": {},
     "output_type": "execute_result"
    }
   ],
   "source": [
    "\"Dan(ial)\".replace(\"(\",\"\")"
   ]
  },
  {
   "cell_type": "code",
   "execution_count": 7,
   "metadata": {},
   "outputs": [
    {
     "data": {
      "text/html": [
       "<div>\n",
       "<style scoped>\n",
       "    .dataframe tbody tr th:only-of-type {\n",
       "        vertical-align: middle;\n",
       "    }\n",
       "\n",
       "    .dataframe tbody tr th {\n",
       "        vertical-align: top;\n",
       "    }\n",
       "\n",
       "    .dataframe thead th {\n",
       "        text-align: right;\n",
       "    }\n",
       "</style>\n",
       "<table border=\"1\" class=\"dataframe\">\n",
       "  <thead>\n",
       "    <tr style=\"text-align: right;\">\n",
       "      <th></th>\n",
       "      <th>Title</th>\n",
       "      <th>Artist</th>\n",
       "      <th>Nationality</th>\n",
       "      <th>BeginDate</th>\n",
       "      <th>EndDate</th>\n",
       "      <th>Gender</th>\n",
       "      <th>Date</th>\n",
       "      <th>Department</th>\n",
       "    </tr>\n",
       "  </thead>\n",
       "  <tbody>\n",
       "    <tr>\n",
       "      <th>0</th>\n",
       "      <td>Dress MacLeod from Tartan Sets</td>\n",
       "      <td>Sarah Charlesworth</td>\n",
       "      <td>American</td>\n",
       "      <td>-1947.0</td>\n",
       "      <td>-2013.0</td>\n",
       "      <td>(Female)</td>\n",
       "      <td>1986</td>\n",
       "      <td>Prints &amp; Illustrated Books</td>\n",
       "    </tr>\n",
       "    <tr>\n",
       "      <th>1</th>\n",
       "      <td>Duplicate of plate from folio 11 verso (supple...</td>\n",
       "      <td>Pablo Palazuelo</td>\n",
       "      <td>Spanish</td>\n",
       "      <td>-1916.0</td>\n",
       "      <td>-2007.0</td>\n",
       "      <td>(Male)</td>\n",
       "      <td>1978</td>\n",
       "      <td>Prints &amp; Illustrated Books</td>\n",
       "    </tr>\n",
       "    <tr>\n",
       "      <th>2</th>\n",
       "      <td>Tailpiece (page 55) from SAGESSE</td>\n",
       "      <td>Maurice Denis</td>\n",
       "      <td>French</td>\n",
       "      <td>-1870.0</td>\n",
       "      <td>-1943.0</td>\n",
       "      <td>(Male)</td>\n",
       "      <td>1889-1911</td>\n",
       "      <td>Prints &amp; Illustrated Books</td>\n",
       "    </tr>\n",
       "    <tr>\n",
       "      <th>3</th>\n",
       "      <td>Headpiece (page 129) from LIVRET DE FOLASTRIES...</td>\n",
       "      <td>Aristide Maillol</td>\n",
       "      <td>French</td>\n",
       "      <td>-1861.0</td>\n",
       "      <td>-1944.0</td>\n",
       "      <td>(Male)</td>\n",
       "      <td>1927-1940</td>\n",
       "      <td>Prints &amp; Illustrated Books</td>\n",
       "    </tr>\n",
       "    <tr>\n",
       "      <th>4</th>\n",
       "      <td>97 rue du Bac</td>\n",
       "      <td>Eugène Atget</td>\n",
       "      <td>French</td>\n",
       "      <td>-1857.0</td>\n",
       "      <td>-1927.0</td>\n",
       "      <td>(Male)</td>\n",
       "      <td>1903</td>\n",
       "      <td>Photography</td>\n",
       "    </tr>\n",
       "  </tbody>\n",
       "</table>\n",
       "</div>"
      ],
      "text/plain": [
       "                                               Title              Artist  \\\n",
       "0                     Dress MacLeod from Tartan Sets  Sarah Charlesworth   \n",
       "1  Duplicate of plate from folio 11 verso (supple...     Pablo Palazuelo   \n",
       "2                   Tailpiece (page 55) from SAGESSE       Maurice Denis   \n",
       "3  Headpiece (page 129) from LIVRET DE FOLASTRIES...    Aristide Maillol   \n",
       "4                                      97 rue du Bac        Eugène Atget   \n",
       "\n",
       "  Nationality  BeginDate  EndDate    Gender       Date  \\\n",
       "0    American    -1947.0  -2013.0  (Female)       1986   \n",
       "1     Spanish    -1916.0  -2007.0    (Male)       1978   \n",
       "2      French    -1870.0  -1943.0    (Male)  1889-1911   \n",
       "3      French    -1861.0  -1944.0    (Male)  1927-1940   \n",
       "4      French    -1857.0  -1927.0    (Male)       1903   \n",
       "\n",
       "                   Department  \n",
       "0  Prints & Illustrated Books  \n",
       "1  Prints & Illustrated Books  \n",
       "2  Prints & Illustrated Books  \n",
       "3  Prints & Illustrated Books  \n",
       "4                 Photography  "
      ]
     },
     "execution_count": 7,
     "metadata": {},
     "output_type": "execute_result"
    }
   ],
   "source": [
    "dataset.head()"
   ]
  },
  {
   "cell_type": "code",
   "execution_count": 8,
   "metadata": {},
   "outputs": [
    {
     "data": {
      "text/html": [
       "<div>\n",
       "<style scoped>\n",
       "    .dataframe tbody tr th:only-of-type {\n",
       "        vertical-align: middle;\n",
       "    }\n",
       "\n",
       "    .dataframe tbody tr th {\n",
       "        vertical-align: top;\n",
       "    }\n",
       "\n",
       "    .dataframe thead th {\n",
       "        text-align: right;\n",
       "    }\n",
       "</style>\n",
       "<table border=\"1\" class=\"dataframe\">\n",
       "  <thead>\n",
       "    <tr style=\"text-align: right;\">\n",
       "      <th></th>\n",
       "      <th>Title</th>\n",
       "      <th>Artist</th>\n",
       "      <th>Nationality</th>\n",
       "      <th>BeginDate</th>\n",
       "      <th>EndDate</th>\n",
       "      <th>Gender</th>\n",
       "      <th>Date</th>\n",
       "      <th>Department</th>\n",
       "    </tr>\n",
       "  </thead>\n",
       "  <tbody>\n",
       "    <tr>\n",
       "      <th>0</th>\n",
       "      <td>Dress MacLeod from Tartan Sets</td>\n",
       "      <td>Sarah Charlesworth</td>\n",
       "      <td>American</td>\n",
       "      <td>-1947.0</td>\n",
       "      <td>-2013.0</td>\n",
       "      <td>Female</td>\n",
       "      <td>1986</td>\n",
       "      <td>Prints &amp; Illustrated Books</td>\n",
       "    </tr>\n",
       "    <tr>\n",
       "      <th>1</th>\n",
       "      <td>Duplicate of plate from folio 11 verso (supple...</td>\n",
       "      <td>Pablo Palazuelo</td>\n",
       "      <td>Spanish</td>\n",
       "      <td>-1916.0</td>\n",
       "      <td>-2007.0</td>\n",
       "      <td>Male</td>\n",
       "      <td>1978</td>\n",
       "      <td>Prints &amp; Illustrated Books</td>\n",
       "    </tr>\n",
       "    <tr>\n",
       "      <th>2</th>\n",
       "      <td>Tailpiece (page 55) from SAGESSE</td>\n",
       "      <td>Maurice Denis</td>\n",
       "      <td>French</td>\n",
       "      <td>-1870.0</td>\n",
       "      <td>-1943.0</td>\n",
       "      <td>Male</td>\n",
       "      <td>1889-1911</td>\n",
       "      <td>Prints &amp; Illustrated Books</td>\n",
       "    </tr>\n",
       "    <tr>\n",
       "      <th>3</th>\n",
       "      <td>Headpiece (page 129) from LIVRET DE FOLASTRIES...</td>\n",
       "      <td>Aristide Maillol</td>\n",
       "      <td>French</td>\n",
       "      <td>-1861.0</td>\n",
       "      <td>-1944.0</td>\n",
       "      <td>Male</td>\n",
       "      <td>1927-1940</td>\n",
       "      <td>Prints &amp; Illustrated Books</td>\n",
       "    </tr>\n",
       "    <tr>\n",
       "      <th>4</th>\n",
       "      <td>97 rue du Bac</td>\n",
       "      <td>Eugène Atget</td>\n",
       "      <td>French</td>\n",
       "      <td>-1857.0</td>\n",
       "      <td>-1927.0</td>\n",
       "      <td>Male</td>\n",
       "      <td>1903</td>\n",
       "      <td>Photography</td>\n",
       "    </tr>\n",
       "  </tbody>\n",
       "</table>\n",
       "</div>"
      ],
      "text/plain": [
       "                                               Title              Artist  \\\n",
       "0                     Dress MacLeod from Tartan Sets  Sarah Charlesworth   \n",
       "1  Duplicate of plate from folio 11 verso (supple...     Pablo Palazuelo   \n",
       "2                   Tailpiece (page 55) from SAGESSE       Maurice Denis   \n",
       "3  Headpiece (page 129) from LIVRET DE FOLASTRIES...    Aristide Maillol   \n",
       "4                                      97 rue du Bac        Eugène Atget   \n",
       "\n",
       "  Nationality  BeginDate  EndDate  Gender       Date  \\\n",
       "0    American    -1947.0  -2013.0  Female       1986   \n",
       "1     Spanish    -1916.0  -2007.0    Male       1978   \n",
       "2      French    -1870.0  -1943.0    Male  1889-1911   \n",
       "3      French    -1861.0  -1944.0    Male  1927-1940   \n",
       "4      French    -1857.0  -1927.0    Male       1903   \n",
       "\n",
       "                   Department  \n",
       "0  Prints & Illustrated Books  \n",
       "1  Prints & Illustrated Books  \n",
       "2  Prints & Illustrated Books  \n",
       "3  Prints & Illustrated Books  \n",
       "4                 Photography  "
      ]
     },
     "execution_count": 8,
     "metadata": {},
     "output_type": "execute_result"
    }
   ],
   "source": [
    "dataset[\"Gender\"] = dataset[\"Gender\"].str.strip(\"()\")\n",
    "dataset.head()"
   ]
  },
  {
   "cell_type": "code",
   "execution_count": 9,
   "metadata": {},
   "outputs": [
    {
     "data": {
      "text/plain": [
       "0        1947.0\n",
       "1        1916.0\n",
       "2        1870.0\n",
       "3        1861.0\n",
       "4        1857.0\n",
       "          ...  \n",
       "16724    1898.0\n",
       "16725    1942.0\n",
       "16726    1882.0\n",
       "16727       nan\n",
       "16728    1927.0\n",
       "Name: BeginDate, Length: 16729, dtype: object"
      ]
     },
     "execution_count": 9,
     "metadata": {},
     "output_type": "execute_result"
    }
   ],
   "source": [
    "dataset[\"BeginDate\"] = dataset[\"BeginDate\"].astype(str)\n",
    "dataset[\"BeginDate\"] = dataset[\"BeginDate\"].str.strip(\"-\")\n",
    "dataset[\"BeginDate\"]"
   ]
  },
  {
   "cell_type": "code",
   "execution_count": 10,
   "metadata": {},
   "outputs": [
    {
     "data": {
      "text/plain": [
       "0        2013.0\n",
       "1        2007.0\n",
       "2        1943.0\n",
       "3        1944.0\n",
       "4        1927.0\n",
       "          ...  \n",
       "16724    1986.0\n",
       "16725       nan\n",
       "16726    1967.0\n",
       "16727       nan\n",
       "16728       nan\n",
       "Name: EndDate, Length: 16729, dtype: object"
      ]
     },
     "execution_count": 10,
     "metadata": {},
     "output_type": "execute_result"
    }
   ],
   "source": [
    "dataset[\"EndDate\"] = dataset[\"EndDate\"].astype(str)\n",
    "dataset[\"EndDate\"] = dataset[\"EndDate\"].str.strip(\"-\")\n",
    "dataset[\"EndDate\"]"
   ]
  },
  {
   "cell_type": "code",
   "execution_count": 11,
   "metadata": {},
   "outputs": [],
   "source": [
    "bad_char = [\"(\",\")\",\".\",\"C\",\"c\",\"s\",\"S\",\"'\",\" \"]"
   ]
  },
  {
   "cell_type": "code",
   "execution_count": 12,
   "metadata": {},
   "outputs": [],
   "source": [
    "for i in bad_char:\n",
    "    dataset[\"Date\"] = dataset[\"Date\"].str.replace(i,\"\")"
   ]
  },
  {
   "cell_type": "code",
   "execution_count": 13,
   "metadata": {},
   "outputs": [
    {
     "data": {
      "text/plain": [
       "16699    1916-1932\n",
       "16700         1986\n",
       "16701         1944\n",
       "16702    1985-1988\n",
       "16703         2013\n",
       "16704         2000\n",
       "16705    1889-1911\n",
       "16706    1880-1910\n",
       "16707    1945-1951\n",
       "16708         1968\n",
       "16709    1964-1965\n",
       "16710         1955\n",
       "16711         1983\n",
       "16712         1938\n",
       "16713         1947\n",
       "16714         1967\n",
       "16715         1966\n",
       "16716         1929\n",
       "16717         1905\n",
       "16718         1946\n",
       "16719         1903\n",
       "16720         1999\n",
       "16721         1947\n",
       "16722         1936\n",
       "16723         1943\n",
       "16724    1968-1969\n",
       "16725         1975\n",
       "16726         1922\n",
       "16727         1931\n",
       "16728         2011\n",
       "Name: Date, dtype: object"
      ]
     },
     "execution_count": 13,
     "metadata": {},
     "output_type": "execute_result"
    }
   ],
   "source": [
    "dataset[\"Date\"].tail(30)"
   ]
  },
  {
   "cell_type": "code",
   "execution_count": 14,
   "metadata": {},
   "outputs": [],
   "source": [
    "indx = \\\n",
    "dataset.loc[dataset[\"Date\"].str.startswith(\"-\"),\"Date\"].index # row , col\n",
    "\n",
    "dataset.loc[indx,\"Date\"]=\\\n",
    "dataset.loc[indx,\"Date\"].str.replace(\"-\",\"\")"
   ]
  },
  {
   "cell_type": "code",
   "execution_count": 15,
   "metadata": {},
   "outputs": [],
   "source": [
    "date = dataset.loc[dataset[\"Date\"].str.contains(\"-\"),\"Date\"]\n",
    "date = date.str.split(\"-\", expand = True)\n",
    "date = date.astype(int)"
   ]
  },
  {
   "cell_type": "code",
   "execution_count": 16,
   "metadata": {},
   "outputs": [],
   "source": [
    "date = round((date[0] + date[1])/2).astype(int)"
   ]
  },
  {
   "cell_type": "code",
   "execution_count": 17,
   "metadata": {},
   "outputs": [],
   "source": [
    "dataset.loc[date.index,\"Date\"] = date"
   ]
  },
  {
   "cell_type": "code",
   "execution_count": 18,
   "metadata": {},
   "outputs": [
    {
     "name": "stdout",
     "output_type": "stream",
     "text": [
      "<class 'pandas.core.frame.DataFrame'>\n",
      "RangeIndex: 16729 entries, 0 to 16728\n",
      "Data columns (total 8 columns):\n",
      " #   Column       Non-Null Count  Dtype \n",
      "---  ------       --------------  ----- \n",
      " 0   Title        16728 non-null  object\n",
      " 1   Artist       16729 non-null  object\n",
      " 2   Nationality  16729 non-null  object\n",
      " 3   BeginDate    16729 non-null  object\n",
      " 4   EndDate      16729 non-null  object\n",
      " 5   Gender       16729 non-null  object\n",
      " 6   Date         16729 non-null  object\n",
      " 7   Department   16729 non-null  object\n",
      "dtypes: object(8)\n",
      "memory usage: 1.0+ MB\n"
     ]
    }
   ],
   "source": [
    "dataset.info()"
   ]
  },
  {
   "cell_type": "code",
   "execution_count": 19,
   "metadata": {},
   "outputs": [
    {
     "data": {
      "text/plain": [
       "4"
      ]
     },
     "execution_count": 19,
     "metadata": {},
     "output_type": "execute_result"
    }
   ],
   "source": [
    "int(float(\"4.5\"))"
   ]
  },
  {
   "cell_type": "code",
   "execution_count": 20,
   "metadata": {},
   "outputs": [
    {
     "data": {
      "text/plain": [
       "0        1947.0\n",
       "1        1916.0\n",
       "2        1870.0\n",
       "3        1861.0\n",
       "4        1857.0\n",
       "          ...  \n",
       "16724    1898.0\n",
       "16725    1942.0\n",
       "16726    1882.0\n",
       "16727       NaN\n",
       "16728    1927.0\n",
       "Name: BeginDate, Length: 16729, dtype: float64"
      ]
     },
     "execution_count": 20,
     "metadata": {},
     "output_type": "execute_result"
    }
   ],
   "source": [
    "dataset[\"BeginDate\"].astype(float)"
   ]
  },
  {
   "cell_type": "code",
   "execution_count": null,
   "metadata": {},
   "outputs": [],
   "source": []
  }
 ],
 "metadata": {
  "kernelspec": {
   "display_name": "Python 3",
   "language": "python",
   "name": "python3"
  },
  "language_info": {
   "codemirror_mode": {
    "name": "ipython",
    "version": 3
   },
   "file_extension": ".py",
   "mimetype": "text/x-python",
   "name": "python",
   "nbconvert_exporter": "python",
   "pygments_lexer": "ipython3",
   "version": "3.8.5"
  }
 },
 "nbformat": 4,
 "nbformat_minor": 5
}
