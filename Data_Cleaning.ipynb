{
  "nbformat": 4,
  "nbformat_minor": 0,
  "metadata": {
    "colab": {
      "name": "Data Cleaning.ipynb",
      "provenance": [],
      "collapsed_sections": []
    },
    "kernelspec": {
      "name": "python3",
      "display_name": "Python 3"
    },
    "language_info": {
      "name": "python"
    }
  },
  "cells": [
    {
      "cell_type": "code",
      "metadata": {
        "id": "zqzyZ6kMiduM"
      },
      "source": [
        "import pandas as pd\n",
        "import numpy as np\n",
        "import matplotlib.pyplot as plt\n"
      ],
      "execution_count": null,
      "outputs": []
    },
    {
      "cell_type": "code",
      "metadata": {
        "id": "1UXyo8Xhj5bG"
      },
      "source": [
        "df = pd.read_csv(\"Laptop-Users.csv\")"
      ],
      "execution_count": null,
      "outputs": []
    },
    {
      "cell_type": "code",
      "metadata": {
        "id": "7aE7IC1ld4xV"
      },
      "source": [
        ""
      ],
      "execution_count": null,
      "outputs": []
    },
    {
      "cell_type": "code",
      "metadata": {
        "colab": {
          "base_uri": "https://localhost:8080/",
          "height": 281
        },
        "id": "EQpoHBfukFC5",
        "outputId": "4344bfef-a7c4-47ea-d02e-9de3ccc7c359"
      },
      "source": [
        "df.plot()"
      ],
      "execution_count": null,
      "outputs": [
        {
          "output_type": "execute_result",
          "data": {
            "text/plain": [
              "<matplotlib.axes._subplots.AxesSubplot at 0x7fbaf4da2890>"
            ]
          },
          "metadata": {},
          "execution_count": 6
        },
        {
          "output_type": "display_data",
          "data": {
            "image/png": "[encoded data removed]",
            "text/plain": [
              "<Figure size 432x288 with 1 Axes>"
            ]
          },
          "metadata": {
            "needs_background": "light"
          }
        }
      ]
    },
    {
      "cell_type": "code",
      "metadata": {
        "colab": {
          "base_uri": "https://localhost:8080/",
          "height": 653
        },
        "id": "8RqwmsEbkmJy",
        "outputId": "3f5b5d11-8ade-432b-ec01-3077e1bf3338"
      },
      "source": [
        "df"
      ],
      "execution_count": null,
      "outputs": [
        {
          "output_type": "execute_result",
          "data": {
            "text/html": [
              "<div>\n",
              "<style scoped>\n",
              "    .dataframe tbody tr th:only-of-type {\n",
              "        vertical-align: middle;\n",
              "    }\n",
              "\n",
              "    .dataframe tbody tr th {\n",
              "        vertical-align: top;\n",
              "    }\n",
              "\n",
              "    .dataframe thead th {\n",
              "        text-align: right;\n",
              "    }\n",
              "</style>\n",
              "<table border=\"1\" class=\"dataframe\">\n",
              "  <thead>\n",
              "    <tr style=\"text-align: right;\">\n",
              "      <th></th>\n",
              "      <th>Age</th>\n",
              "      <th>Gender</th>\n",
              "      <th>Region</th>\n",
              "      <th>Occupation</th>\n",
              "      <th>Income</th>\n",
              "      <th>Has Laptop</th>\n",
              "    </tr>\n",
              "  </thead>\n",
              "  <tbody>\n",
              "    <tr>\n",
              "      <th>0</th>\n",
              "      <td>14</td>\n",
              "      <td>male</td>\n",
              "      <td>city</td>\n",
              "      <td>student</td>\n",
              "      <td>0</td>\n",
              "      <td>no</td>\n",
              "    </tr>\n",
              "    <tr>\n",
              "      <th>1</th>\n",
              "      <td>34</td>\n",
              "      <td>female</td>\n",
              "      <td>city</td>\n",
              "      <td>teacher</td>\n",
              "      <td>22000</td>\n",
              "      <td>no</td>\n",
              "    </tr>\n",
              "    <tr>\n",
              "      <th>2</th>\n",
              "      <td>42</td>\n",
              "      <td>male</td>\n",
              "      <td>countryside</td>\n",
              "      <td>banker</td>\n",
              "      <td>24000</td>\n",
              "      <td>yes</td>\n",
              "    </tr>\n",
              "    <tr>\n",
              "      <th>3</th>\n",
              "      <td>30</td>\n",
              "      <td>male</td>\n",
              "      <td>countryside</td>\n",
              "      <td>teacher</td>\n",
              "      <td>25000</td>\n",
              "      <td>no</td>\n",
              "    </tr>\n",
              "    <tr>\n",
              "      <th>4</th>\n",
              "      <td>16</td>\n",
              "      <td>male</td>\n",
              "      <td>city</td>\n",
              "      <td>student</td>\n",
              "      <td>0</td>\n",
              "      <td>no</td>\n",
              "    </tr>\n",
              "    <tr>\n",
              "      <th>5</th>\n",
              "      <td>33</td>\n",
              "      <td>female</td>\n",
              "      <td>city</td>\n",
              "      <td>banker</td>\n",
              "      <td>20000</td>\n",
              "      <td>yes</td>\n",
              "    </tr>\n",
              "    <tr>\n",
              "      <th>6</th>\n",
              "      <td>26</td>\n",
              "      <td>female</td>\n",
              "      <td>city</td>\n",
              "      <td>student</td>\n",
              "      <td>8000</td>\n",
              "      <td>yes</td>\n",
              "    </tr>\n",
              "    <tr>\n",
              "      <th>7</th>\n",
              "      <td>22</td>\n",
              "      <td>male</td>\n",
              "      <td>city</td>\n",
              "      <td>student</td>\n",
              "      <td>4000</td>\n",
              "      <td>yes</td>\n",
              "    </tr>\n",
              "    <tr>\n",
              "      <th>8</th>\n",
              "      <td>28</td>\n",
              "      <td>female</td>\n",
              "      <td>countryside</td>\n",
              "      <td>teacher</td>\n",
              "      <td>12000</td>\n",
              "      <td>no</td>\n",
              "    </tr>\n",
              "    <tr>\n",
              "      <th>9</th>\n",
              "      <td>27</td>\n",
              "      <td>female</td>\n",
              "      <td>city</td>\n",
              "      <td>student</td>\n",
              "      <td>7000</td>\n",
              "      <td>yes</td>\n",
              "    </tr>\n",
              "    <tr>\n",
              "      <th>10</th>\n",
              "      <td>19</td>\n",
              "      <td>male</td>\n",
              "      <td>city</td>\n",
              "      <td>student</td>\n",
              "      <td>10000</td>\n",
              "      <td>no</td>\n",
              "    </tr>\n",
              "    <tr>\n",
              "      <th>11</th>\n",
              "      <td>26</td>\n",
              "      <td>female</td>\n",
              "      <td>city</td>\n",
              "      <td>student</td>\n",
              "      <td>11000</td>\n",
              "      <td>yes</td>\n",
              "    </tr>\n",
              "    <tr>\n",
              "      <th>12</th>\n",
              "      <td>29</td>\n",
              "      <td>female</td>\n",
              "      <td>countryside</td>\n",
              "      <td>banker</td>\n",
              "      <td>18000</td>\n",
              "      <td>yes</td>\n",
              "    </tr>\n",
              "    <tr>\n",
              "      <th>13</th>\n",
              "      <td>36</td>\n",
              "      <td>male</td>\n",
              "      <td>countryside</td>\n",
              "      <td>banker</td>\n",
              "      <td>26000</td>\n",
              "      <td>no</td>\n",
              "    </tr>\n",
              "    <tr>\n",
              "      <th>14</th>\n",
              "      <td>35</td>\n",
              "      <td>male</td>\n",
              "      <td>city</td>\n",
              "      <td>student</td>\n",
              "      <td>8000</td>\n",
              "      <td>yes</td>\n",
              "    </tr>\n",
              "    <tr>\n",
              "      <th>15</th>\n",
              "      <td>54</td>\n",
              "      <td>male</td>\n",
              "      <td>city</td>\n",
              "      <td>officer</td>\n",
              "      <td>30000</td>\n",
              "      <td>yes</td>\n",
              "    </tr>\n",
              "    <tr>\n",
              "      <th>16</th>\n",
              "      <td>15</td>\n",
              "      <td>male</td>\n",
              "      <td>city</td>\n",
              "      <td>student</td>\n",
              "      <td>2000</td>\n",
              "      <td>yes</td>\n",
              "    </tr>\n",
              "    <tr>\n",
              "      <th>17</th>\n",
              "      <td>49</td>\n",
              "      <td>female</td>\n",
              "      <td>countryside</td>\n",
              "      <td>officer</td>\n",
              "      <td>25000</td>\n",
              "      <td>yes</td>\n",
              "    </tr>\n",
              "    <tr>\n",
              "      <th>18</th>\n",
              "      <td>26</td>\n",
              "      <td>male</td>\n",
              "      <td>city</td>\n",
              "      <td>teacher</td>\n",
              "      <td>14000</td>\n",
              "      <td>no</td>\n",
              "    </tr>\n",
              "    <tr>\n",
              "      <th>19</th>\n",
              "      <td>43</td>\n",
              "      <td>male</td>\n",
              "      <td>city</td>\n",
              "      <td>banker</td>\n",
              "      <td>27000</td>\n",
              "      <td>no</td>\n",
              "    </tr>\n",
              "  </tbody>\n",
              "</table>\n",
              "</div>"
            ],
            "text/plain": [
              "    Age  Gender       Region Occupation  Income Has Laptop\n",
              "0    14    male         city    student       0         no\n",
              "1    34  female         city    teacher   22000         no\n",
              "2    42    male  countryside     banker   24000        yes\n",
              "3    30    male  countryside    teacher   25000         no\n",
              "4    16    male         city    student       0         no\n",
              "5    33  female         city     banker   20000        yes\n",
              "6    26  female         city    student    8000        yes\n",
              "7    22    male         city    student    4000        yes\n",
              "8    28  female  countryside    teacher   12000         no\n",
              "9    27  female         city    student    7000        yes\n",
              "10   19    male         city    student   10000         no\n",
              "11   26  female         city    student   11000        yes\n",
              "12   29  female  countryside     banker   18000        yes\n",
              "13   36    male  countryside     banker   26000         no\n",
              "14   35    male         city    student    8000        yes\n",
              "15   54    male         city    officer   30000        yes\n",
              "16   15    male         city    student    2000        yes\n",
              "17   49  female  countryside    officer   25000        yes\n",
              "18   26    male         city    teacher   14000         no\n",
              "19   43    male         city     banker   27000         no"
            ]
          },
          "metadata": {},
          "execution_count": 7
        }
      ]
    },
    {
      "cell_type": "code",
      "metadata": {
        "colab": {
          "base_uri": "https://localhost:8080/",
          "height": 281
        },
        "id": "qKPRbCyOkYnN",
        "outputId": "a1eae71e-574e-4bd3-d04e-3215dd272d28"
      },
      "source": [
        "plt.plot(df.index, df['Occupation'])"
      ],
      "execution_count": null,
      "outputs": [
        {
          "output_type": "execute_result",
          "data": {
            "text/plain": [
              "[<matplotlib.lines.Line2D at 0x7fbaee407310>]"
            ]
          },
          "metadata": {},
          "execution_count": 8
        },
        {
          "output_type": "display_data",
          "data": {
            "image/png": "[encoded data removed]",
            "text/plain": [
              "<Figure size 432x288 with 1 Axes>"
            ]
          },
          "metadata": {
            "needs_background": "light"
          }
        }
      ]
    },
    {
      "cell_type": "code",
      "metadata": {
        "colab": {
          "base_uri": "https://localhost:8080/"
        },
        "id": "nLOZluxaioYd",
        "outputId": "6487297e-f7ac-4b04-9498-b16409658692"
      },
      "source": [
        "pd.isnull(np.nan)"
      ],
      "execution_count": null,
      "outputs": [
        {
          "output_type": "execute_result",
          "data": {
            "text/plain": [
              "True"
            ]
          },
          "metadata": {},
          "execution_count": 9
        }
      ]
    },
    {
      "cell_type": "code",
      "metadata": {
        "colab": {
          "base_uri": "https://localhost:8080/"
        },
        "id": "wh0f7nbLnZ6y",
        "outputId": "0a1a494c-6e37-40d6-9afd-b9289749af37"
      },
      "source": [
        "pd.isnull(None)"
      ],
      "execution_count": null,
      "outputs": [
        {
          "output_type": "execute_result",
          "data": {
            "text/plain": [
              "True"
            ]
          },
          "metadata": {},
          "execution_count": 10
        }
      ]
    },
    {
      "cell_type": "code",
      "metadata": {
        "colab": {
          "base_uri": "https://localhost:8080/"
        },
        "id": "YXRO7btAuTEe",
        "outputId": "43253ea8-b6c4-46f9-9cf6-1378703e01a7"
      },
      "source": [
        "pd.isna(np.nan)"
      ],
      "execution_count": null,
      "outputs": [
        {
          "output_type": "execute_result",
          "data": {
            "text/plain": [
              "True"
            ]
          },
          "metadata": {},
          "execution_count": 11
        }
      ]
    },
    {
      "cell_type": "code",
      "metadata": {
        "colab": {
          "base_uri": "https://localhost:8080/"
        },
        "id": "HHzBIUOguZ_5",
        "outputId": "68cad770-cf80-4992-8453-834eebdc587d"
      },
      "source": [
        "pd.notnull(None)"
      ],
      "execution_count": null,
      "outputs": [
        {
          "output_type": "execute_result",
          "data": {
            "text/plain": [
              "False"
            ]
          },
          "metadata": {},
          "execution_count": 12
        }
      ]
    },
    {
      "cell_type": "code",
      "metadata": {
        "colab": {
          "base_uri": "https://localhost:8080/"
        },
        "id": "FAbO28d2u8bK",
        "outputId": "11251a70-c2a9-4777-9cbd-0448daa3e8fa"
      },
      "source": [
        "pd.notnull(np.nan)"
      ],
      "execution_count": null,
      "outputs": [
        {
          "output_type": "execute_result",
          "data": {
            "text/plain": [
              "False"
            ]
          },
          "metadata": {},
          "execution_count": 13
        }
      ]
    },
    {
      "cell_type": "code",
      "metadata": {
        "colab": {
          "base_uri": "https://localhost:8080/"
        },
        "id": "bBRce48bvIgg",
        "outputId": "29c9fc1c-82e7-4c16-8b37-196c54273a79"
      },
      "source": [
        "pd.isnull(pd.Series([1, np.nan, 7]))"
      ],
      "execution_count": null,
      "outputs": [
        {
          "output_type": "execute_result",
          "data": {
            "text/plain": [
              "0    False\n",
              "1     True\n",
              "2    False\n",
              "dtype: bool"
            ]
          },
          "metadata": {},
          "execution_count": 14
        }
      ]
    },
    {
      "cell_type": "code",
      "metadata": {
        "id": "vMHNcBD8wMvd"
      },
      "source": [
        "s = pd.Series([1,2,3,np.nan,np.nan,4])"
      ],
      "execution_count": null,
      "outputs": []
    },
    {
      "cell_type": "code",
      "metadata": {
        "colab": {
          "base_uri": "https://localhost:8080/"
        },
        "id": "fcJdsjj0w5Xg",
        "outputId": "fbd1137b-89f5-4258-bc26-a4986643bac7"
      },
      "source": [
        "pd.notnull(s)"
      ],
      "execution_count": null,
      "outputs": [
        {
          "output_type": "execute_result",
          "data": {
            "text/plain": [
              "0     True\n",
              "1     True\n",
              "2     True\n",
              "3    False\n",
              "4    False\n",
              "5     True\n",
              "dtype: bool"
            ]
          },
          "metadata": {},
          "execution_count": 16
        }
      ]
    },
    {
      "cell_type": "code",
      "metadata": {
        "colab": {
          "base_uri": "https://localhost:8080/"
        },
        "id": "_8KxfwyRw83E",
        "outputId": "a3c8b678-3138-44e1-a576-3cdb6ac0e3db"
      },
      "source": [
        "pd.isnull(s)"
      ],
      "execution_count": null,
      "outputs": [
        {
          "output_type": "execute_result",
          "data": {
            "text/plain": [
              "0    False\n",
              "1    False\n",
              "2    False\n",
              "3     True\n",
              "4     True\n",
              "5    False\n",
              "dtype: bool"
            ]
          },
          "metadata": {},
          "execution_count": 17
        }
      ]
    },
    {
      "cell_type": "code",
      "metadata": {
        "colab": {
          "base_uri": "https://localhost:8080/"
        },
        "id": "YAB9F6cBweHv",
        "outputId": "c3d1207b-b535-4002-cb98-1e13af5560a6"
      },
      "source": [
        "pd.notnull(s).count()"
      ],
      "execution_count": null,
      "outputs": [
        {
          "output_type": "execute_result",
          "data": {
            "text/plain": [
              "6"
            ]
          },
          "metadata": {},
          "execution_count": 18
        }
      ]
    },
    {
      "cell_type": "code",
      "metadata": {
        "colab": {
          "base_uri": "https://localhost:8080/"
        },
        "id": "STlAqgHtwom7",
        "outputId": "f2008ff7-c864-4a27-9ef2-4e4dda20edc6"
      },
      "source": [
        "pd.notnull(s).sum()"
      ],
      "execution_count": null,
      "outputs": [
        {
          "output_type": "execute_result",
          "data": {
            "text/plain": [
              "4"
            ]
          },
          "metadata": {},
          "execution_count": 19
        }
      ]
    },
    {
      "cell_type": "code",
      "metadata": {
        "colab": {
          "base_uri": "https://localhost:8080/"
        },
        "id": "A7eFev4bxA_V",
        "outputId": "ffb863a1-0602-41ac-f003-979b82f5869d"
      },
      "source": [
        "pd.isnull(s).sum()"
      ],
      "execution_count": null,
      "outputs": [
        {
          "output_type": "execute_result",
          "data": {
            "text/plain": [
              "2"
            ]
          },
          "metadata": {},
          "execution_count": 20
        }
      ]
    },
    {
      "cell_type": "code",
      "metadata": {
        "colab": {
          "base_uri": "https://localhost:8080/"
        },
        "id": "ZH__TnCPxYIS",
        "outputId": "77c5589f-6baa-4dbd-cd80-915c53e069b6"
      },
      "source": [
        "s[pd.notnull(s)]"
      ],
      "execution_count": null,
      "outputs": [
        {
          "output_type": "execute_result",
          "data": {
            "text/plain": [
              "0    1.0\n",
              "1    2.0\n",
              "2    3.0\n",
              "5    4.0\n",
              "dtype: float64"
            ]
          },
          "metadata": {},
          "execution_count": 21
        }
      ]
    },
    {
      "cell_type": "code",
      "metadata": {
        "colab": {
          "base_uri": "https://localhost:8080/"
        },
        "id": "Mutsy4MsxkIX",
        "outputId": "d9fce710-c374-41de-8dad-58db1e701e9c"
      },
      "source": [
        "s[s.notnull()]"
      ],
      "execution_count": null,
      "outputs": [
        {
          "output_type": "execute_result",
          "data": {
            "text/plain": [
              "0    1.0\n",
              "1    2.0\n",
              "2    3.0\n",
              "5    4.0\n",
              "dtype: float64"
            ]
          },
          "metadata": {},
          "execution_count": 22
        }
      ]
    },
    {
      "cell_type": "code",
      "metadata": {
        "colab": {
          "base_uri": "https://localhost:8080/"
        },
        "id": "oAJ9qlHRxutR",
        "outputId": "122a7377-8f61-4045-fb68-c71578471d01"
      },
      "source": [
        "s.notnull()"
      ],
      "execution_count": null,
      "outputs": [
        {
          "output_type": "execute_result",
          "data": {
            "text/plain": [
              "0     True\n",
              "1     True\n",
              "2     True\n",
              "3    False\n",
              "4    False\n",
              "5     True\n",
              "dtype: bool"
            ]
          },
          "metadata": {},
          "execution_count": 23
        }
      ]
    },
    {
      "cell_type": "code",
      "metadata": {
        "colab": {
          "base_uri": "https://localhost:8080/"
        },
        "id": "vVhTpv_hx1nq",
        "outputId": "027dde51-226d-4cc8-bc45-0a0c2d5f7cfb"
      },
      "source": [
        "s.dropna()"
      ],
      "execution_count": null,
      "outputs": [
        {
          "output_type": "execute_result",
          "data": {
            "text/plain": [
              "0    1.0\n",
              "1    2.0\n",
              "2    3.0\n",
              "5    4.0\n",
              "dtype: float64"
            ]
          },
          "metadata": {},
          "execution_count": 24
        }
      ]
    },
    {
      "cell_type": "code",
      "metadata": {
        "colab": {
          "base_uri": "https://localhost:8080/"
        },
        "id": "5FiYA-6Ad6jv",
        "outputId": "054c9cf8-e409-4e5a-9729-b49b7dd4109f"
      },
      "source": [
        "df.isnull().sum()"
      ],
      "execution_count": null,
      "outputs": [
        {
          "output_type": "execute_result",
          "data": {
            "text/plain": [
              "Age           0\n",
              "Gender        0\n",
              "Region        0\n",
              "Occupation    0\n",
              "Income        0\n",
              "Has Laptop    0\n",
              "dtype: int64"
            ]
          },
          "metadata": {},
          "execution_count": 25
        }
      ]
    },
    {
      "cell_type": "code",
      "metadata": {
        "colab": {
          "base_uri": "https://localhost:8080/",
          "height": 653
        },
        "id": "-ii1tbPlf3rG",
        "outputId": "470af548-5fbb-473e-bdfe-ad5c89e4e3fc"
      },
      "source": [
        "df.dropna()"
      ],
      "execution_count": null,
      "outputs": [
        {
          "output_type": "execute_result",
          "data": {
            "text/html": [
              "<div>\n",
              "<style scoped>\n",
              "    .dataframe tbody tr th:only-of-type {\n",
              "        vertical-align: middle;\n",
              "    }\n",
              "\n",
              "    .dataframe tbody tr th {\n",
              "        vertical-align: top;\n",
              "    }\n",
              "\n",
              "    .dataframe thead th {\n",
              "        text-align: right;\n",
              "    }\n",
              "</style>\n",
              "<table border=\"1\" class=\"dataframe\">\n",
              "  <thead>\n",
              "    <tr style=\"text-align: right;\">\n",
              "      <th></th>\n",
              "      <th>Age</th>\n",
              "      <th>Gender</th>\n",
              "      <th>Region</th>\n",
              "      <th>Occupation</th>\n",
              "      <th>Income</th>\n",
              "      <th>Has Laptop</th>\n",
              "    </tr>\n",
              "  </thead>\n",
              "  <tbody>\n",
              "    <tr>\n",
              "      <th>0</th>\n",
              "      <td>14</td>\n",
              "      <td>male</td>\n",
              "      <td>city</td>\n",
              "      <td>student</td>\n",
              "      <td>0</td>\n",
              "      <td>no</td>\n",
              "    </tr>\n",
              "    <tr>\n",
              "      <th>1</th>\n",
              "      <td>34</td>\n",
              "      <td>female</td>\n",
              "      <td>city</td>\n",
              "      <td>teacher</td>\n",
              "      <td>22000</td>\n",
              "      <td>no</td>\n",
              "    </tr>\n",
              "    <tr>\n",
              "      <th>2</th>\n",
              "      <td>42</td>\n",
              "      <td>male</td>\n",
              "      <td>countryside</td>\n",
              "      <td>banker</td>\n",
              "      <td>24000</td>\n",
              "      <td>yes</td>\n",
              "    </tr>\n",
              "    <tr>\n",
              "      <th>3</th>\n",
              "      <td>30</td>\n",
              "      <td>male</td>\n",
              "      <td>countryside</td>\n",
              "      <td>teacher</td>\n",
              "      <td>25000</td>\n",
              "      <td>no</td>\n",
              "    </tr>\n",
              "    <tr>\n",
              "      <th>4</th>\n",
              "      <td>16</td>\n",
              "      <td>male</td>\n",
              "      <td>city</td>\n",
              "      <td>student</td>\n",
              "      <td>0</td>\n",
              "      <td>no</td>\n",
              "    </tr>\n",
              "    <tr>\n",
              "      <th>5</th>\n",
              "      <td>33</td>\n",
              "      <td>female</td>\n",
              "      <td>city</td>\n",
              "      <td>banker</td>\n",
              "      <td>20000</td>\n",
              "      <td>yes</td>\n",
              "    </tr>\n",
              "    <tr>\n",
              "      <th>6</th>\n",
              "      <td>26</td>\n",
              "      <td>female</td>\n",
              "      <td>city</td>\n",
              "      <td>student</td>\n",
              "      <td>8000</td>\n",
              "      <td>yes</td>\n",
              "    </tr>\n",
              "    <tr>\n",
              "      <th>7</th>\n",
              "      <td>22</td>\n",
              "      <td>male</td>\n",
              "      <td>city</td>\n",
              "      <td>student</td>\n",
              "      <td>4000</td>\n",
              "      <td>yes</td>\n",
              "    </tr>\n",
              "    <tr>\n",
              "      <th>8</th>\n",
              "      <td>28</td>\n",
              "      <td>female</td>\n",
              "      <td>countryside</td>\n",
              "      <td>teacher</td>\n",
              "      <td>12000</td>\n",
              "      <td>no</td>\n",
              "    </tr>\n",
              "    <tr>\n",
              "      <th>9</th>\n",
              "      <td>27</td>\n",
              "      <td>female</td>\n",
              "      <td>city</td>\n",
              "      <td>student</td>\n",
              "      <td>7000</td>\n",
              "      <td>yes</td>\n",
              "    </tr>\n",
              "    <tr>\n",
              "      <th>10</th>\n",
              "      <td>19</td>\n",
              "      <td>male</td>\n",
              "      <td>city</td>\n",
              "      <td>student</td>\n",
              "      <td>10000</td>\n",
              "      <td>no</td>\n",
              "    </tr>\n",
              "    <tr>\n",
              "      <th>11</th>\n",
              "      <td>26</td>\n",
              "      <td>female</td>\n",
              "      <td>city</td>\n",
              "      <td>student</td>\n",
              "      <td>11000</td>\n",
              "      <td>yes</td>\n",
              "    </tr>\n",
              "    <tr>\n",
              "      <th>12</th>\n",
              "      <td>29</td>\n",
              "      <td>female</td>\n",
              "      <td>countryside</td>\n",
              "      <td>banker</td>\n",
              "      <td>18000</td>\n",
              "      <td>yes</td>\n",
              "    </tr>\n",
              "    <tr>\n",
              "      <th>13</th>\n",
              "      <td>36</td>\n",
              "      <td>male</td>\n",
              "      <td>countryside</td>\n",
              "      <td>banker</td>\n",
              "      <td>26000</td>\n",
              "      <td>no</td>\n",
              "    </tr>\n",
              "    <tr>\n",
              "      <th>14</th>\n",
              "      <td>35</td>\n",
              "      <td>male</td>\n",
              "      <td>city</td>\n",
              "      <td>student</td>\n",
              "      <td>8000</td>\n",
              "      <td>yes</td>\n",
              "    </tr>\n",
              "    <tr>\n",
              "      <th>15</th>\n",
              "      <td>54</td>\n",
              "      <td>male</td>\n",
              "      <td>city</td>\n",
              "      <td>officer</td>\n",
              "      <td>30000</td>\n",
              "      <td>yes</td>\n",
              "    </tr>\n",
              "    <tr>\n",
              "      <th>16</th>\n",
              "      <td>15</td>\n",
              "      <td>male</td>\n",
              "      <td>city</td>\n",
              "      <td>student</td>\n",
              "      <td>2000</td>\n",
              "      <td>yes</td>\n",
              "    </tr>\n",
              "    <tr>\n",
              "      <th>17</th>\n",
              "      <td>49</td>\n",
              "      <td>female</td>\n",
              "      <td>countryside</td>\n",
              "      <td>officer</td>\n",
              "      <td>25000</td>\n",
              "      <td>yes</td>\n",
              "    </tr>\n",
              "    <tr>\n",
              "      <th>18</th>\n",
              "      <td>26</td>\n",
              "      <td>male</td>\n",
              "      <td>city</td>\n",
              "      <td>teacher</td>\n",
              "      <td>14000</td>\n",
              "      <td>no</td>\n",
              "    </tr>\n",
              "    <tr>\n",
              "      <th>19</th>\n",
              "      <td>43</td>\n",
              "      <td>male</td>\n",
              "      <td>city</td>\n",
              "      <td>banker</td>\n",
              "      <td>27000</td>\n",
              "      <td>no</td>\n",
              "    </tr>\n",
              "  </tbody>\n",
              "</table>\n",
              "</div>"
            ],
            "text/plain": [
              "    Age  Gender       Region Occupation  Income Has Laptop\n",
              "0    14    male         city    student       0         no\n",
              "1    34  female         city    teacher   22000         no\n",
              "2    42    male  countryside     banker   24000        yes\n",
              "3    30    male  countryside    teacher   25000         no\n",
              "4    16    male         city    student       0         no\n",
              "5    33  female         city     banker   20000        yes\n",
              "6    26  female         city    student    8000        yes\n",
              "7    22    male         city    student    4000        yes\n",
              "8    28  female  countryside    teacher   12000         no\n",
              "9    27  female         city    student    7000        yes\n",
              "10   19    male         city    student   10000         no\n",
              "11   26  female         city    student   11000        yes\n",
              "12   29  female  countryside     banker   18000        yes\n",
              "13   36    male  countryside     banker   26000         no\n",
              "14   35    male         city    student    8000        yes\n",
              "15   54    male         city    officer   30000        yes\n",
              "16   15    male         city    student    2000        yes\n",
              "17   49  female  countryside    officer   25000        yes\n",
              "18   26    male         city    teacher   14000         no\n",
              "19   43    male         city     banker   27000         no"
            ]
          },
          "metadata": {},
          "execution_count": 26
        }
      ]
    },
    {
      "cell_type": "code",
      "metadata": {
        "colab": {
          "base_uri": "https://localhost:8080/",
          "height": 653
        },
        "id": "RmPyL2tPf9iw",
        "outputId": "a04a9ca6-8f20-43af-a265-34c93e16288d"
      },
      "source": [
        "df.dropna(axis=1)"
      ],
      "execution_count": null,
      "outputs": [
        {
          "output_type": "execute_result",
          "data": {
            "text/html": [
              "<div>\n",
              "<style scoped>\n",
              "    .dataframe tbody tr th:only-of-type {\n",
              "        vertical-align: middle;\n",
              "    }\n",
              "\n",
              "    .dataframe tbody tr th {\n",
              "        vertical-align: top;\n",
              "    }\n",
              "\n",
              "    .dataframe thead th {\n",
              "        text-align: right;\n",
              "    }\n",
              "</style>\n",
              "<table border=\"1\" class=\"dataframe\">\n",
              "  <thead>\n",
              "    <tr style=\"text-align: right;\">\n",
              "      <th></th>\n",
              "      <th>Age</th>\n",
              "      <th>Gender</th>\n",
              "      <th>Region</th>\n",
              "      <th>Occupation</th>\n",
              "      <th>Income</th>\n",
              "      <th>Has Laptop</th>\n",
              "    </tr>\n",
              "  </thead>\n",
              "  <tbody>\n",
              "    <tr>\n",
              "      <th>0</th>\n",
              "      <td>14</td>\n",
              "      <td>male</td>\n",
              "      <td>city</td>\n",
              "      <td>student</td>\n",
              "      <td>0</td>\n",
              "      <td>no</td>\n",
              "    </tr>\n",
              "    <tr>\n",
              "      <th>1</th>\n",
              "      <td>34</td>\n",
              "      <td>female</td>\n",
              "      <td>city</td>\n",
              "      <td>teacher</td>\n",
              "      <td>22000</td>\n",
              "      <td>no</td>\n",
              "    </tr>\n",
              "    <tr>\n",
              "      <th>2</th>\n",
              "      <td>42</td>\n",
              "      <td>male</td>\n",
              "      <td>countryside</td>\n",
              "      <td>banker</td>\n",
              "      <td>24000</td>\n",
              "      <td>yes</td>\n",
              "    </tr>\n",
              "    <tr>\n",
              "      <th>3</th>\n",
              "      <td>30</td>\n",
              "      <td>male</td>\n",
              "      <td>countryside</td>\n",
              "      <td>teacher</td>\n",
              "      <td>25000</td>\n",
              "      <td>no</td>\n",
              "    </tr>\n",
              "    <tr>\n",
              "      <th>4</th>\n",
              "      <td>16</td>\n",
              "      <td>male</td>\n",
              "      <td>city</td>\n",
              "      <td>student</td>\n",
              "      <td>0</td>\n",
              "      <td>no</td>\n",
              "    </tr>\n",
              "    <tr>\n",
              "      <th>5</th>\n",
              "      <td>33</td>\n",
              "      <td>female</td>\n",
              "      <td>city</td>\n",
              "      <td>banker</td>\n",
              "      <td>20000</td>\n",
              "      <td>yes</td>\n",
              "    </tr>\n",
              "    <tr>\n",
              "      <th>6</th>\n",
              "      <td>26</td>\n",
              "      <td>female</td>\n",
              "      <td>city</td>\n",
              "      <td>student</td>\n",
              "      <td>8000</td>\n",
              "      <td>yes</td>\n",
              "    </tr>\n",
              "    <tr>\n",
              "      <th>7</th>\n",
              "      <td>22</td>\n",
              "      <td>male</td>\n",
              "      <td>city</td>\n",
              "      <td>student</td>\n",
              "      <td>4000</td>\n",
              "      <td>yes</td>\n",
              "    </tr>\n",
              "    <tr>\n",
              "      <th>8</th>\n",
              "      <td>28</td>\n",
              "      <td>female</td>\n",
              "      <td>countryside</td>\n",
              "      <td>teacher</td>\n",
              "      <td>12000</td>\n",
              "      <td>no</td>\n",
              "    </tr>\n",
              "    <tr>\n",
              "      <th>9</th>\n",
              "      <td>27</td>\n",
              "      <td>female</td>\n",
              "      <td>city</td>\n",
              "      <td>student</td>\n",
              "      <td>7000</td>\n",
              "      <td>yes</td>\n",
              "    </tr>\n",
              "    <tr>\n",
              "      <th>10</th>\n",
              "      <td>19</td>\n",
              "      <td>male</td>\n",
              "      <td>city</td>\n",
              "      <td>student</td>\n",
              "      <td>10000</td>\n",
              "      <td>no</td>\n",
              "    </tr>\n",
              "    <tr>\n",
              "      <th>11</th>\n",
              "      <td>26</td>\n",
              "      <td>female</td>\n",
              "      <td>city</td>\n",
              "      <td>student</td>\n",
              "      <td>11000</td>\n",
              "      <td>yes</td>\n",
              "    </tr>\n",
              "    <tr>\n",
              "      <th>12</th>\n",
              "      <td>29</td>\n",
              "      <td>female</td>\n",
              "      <td>countryside</td>\n",
              "      <td>banker</td>\n",
              "      <td>18000</td>\n",
              "      <td>yes</td>\n",
              "    </tr>\n",
              "    <tr>\n",
              "      <th>13</th>\n",
              "      <td>36</td>\n",
              "      <td>male</td>\n",
              "      <td>countryside</td>\n",
              "      <td>banker</td>\n",
              "      <td>26000</td>\n",
              "      <td>no</td>\n",
              "    </tr>\n",
              "    <tr>\n",
              "      <th>14</th>\n",
              "      <td>35</td>\n",
              "      <td>male</td>\n",
              "      <td>city</td>\n",
              "      <td>student</td>\n",
              "      <td>8000</td>\n",
              "      <td>yes</td>\n",
              "    </tr>\n",
              "    <tr>\n",
              "      <th>15</th>\n",
              "      <td>54</td>\n",
              "      <td>male</td>\n",
              "      <td>city</td>\n",
              "      <td>officer</td>\n",
              "      <td>30000</td>\n",
              "      <td>yes</td>\n",
              "    </tr>\n",
              "    <tr>\n",
              "      <th>16</th>\n",
              "      <td>15</td>\n",
              "      <td>male</td>\n",
              "      <td>city</td>\n",
              "      <td>student</td>\n",
              "      <td>2000</td>\n",
              "      <td>yes</td>\n",
              "    </tr>\n",
              "    <tr>\n",
              "      <th>17</th>\n",
              "      <td>49</td>\n",
              "      <td>female</td>\n",
              "      <td>countryside</td>\n",
              "      <td>officer</td>\n",
              "      <td>25000</td>\n",
              "      <td>yes</td>\n",
              "    </tr>\n",
              "    <tr>\n",
              "      <th>18</th>\n",
              "      <td>26</td>\n",
              "      <td>male</td>\n",
              "      <td>city</td>\n",
              "      <td>teacher</td>\n",
              "      <td>14000</td>\n",
              "      <td>no</td>\n",
              "    </tr>\n",
              "    <tr>\n",
              "      <th>19</th>\n",
              "      <td>43</td>\n",
              "      <td>male</td>\n",
              "      <td>city</td>\n",
              "      <td>banker</td>\n",
              "      <td>27000</td>\n",
              "      <td>no</td>\n",
              "    </tr>\n",
              "  </tbody>\n",
              "</table>\n",
              "</div>"
            ],
            "text/plain": [
              "    Age  Gender       Region Occupation  Income Has Laptop\n",
              "0    14    male         city    student       0         no\n",
              "1    34  female         city    teacher   22000         no\n",
              "2    42    male  countryside     banker   24000        yes\n",
              "3    30    male  countryside    teacher   25000         no\n",
              "4    16    male         city    student       0         no\n",
              "5    33  female         city     banker   20000        yes\n",
              "6    26  female         city    student    8000        yes\n",
              "7    22    male         city    student    4000        yes\n",
              "8    28  female  countryside    teacher   12000         no\n",
              "9    27  female         city    student    7000        yes\n",
              "10   19    male         city    student   10000         no\n",
              "11   26  female         city    student   11000        yes\n",
              "12   29  female  countryside     banker   18000        yes\n",
              "13   36    male  countryside     banker   26000         no\n",
              "14   35    male         city    student    8000        yes\n",
              "15   54    male         city    officer   30000        yes\n",
              "16   15    male         city    student    2000        yes\n",
              "17   49  female  countryside    officer   25000        yes\n",
              "18   26    male         city    teacher   14000         no\n",
              "19   43    male         city     banker   27000         no"
            ]
          },
          "metadata": {},
          "execution_count": 27
        }
      ]
    },
    {
      "cell_type": "code",
      "metadata": {
        "id": "dq9HG0swgFsA",
        "colab": {
          "base_uri": "https://localhost:8080/",
          "height": 653
        },
        "outputId": "7a340aed-a221-4958-d81c-b0e5588f025a"
      },
      "source": [
        "df.fillna(0)"
      ],
      "execution_count": null,
      "outputs": [
        {
          "output_type": "execute_result",
          "data": {
            "text/html": [
              "<div>\n",
              "<style scoped>\n",
              "    .dataframe tbody tr th:only-of-type {\n",
              "        vertical-align: middle;\n",
              "    }\n",
              "\n",
              "    .dataframe tbody tr th {\n",
              "        vertical-align: top;\n",
              "    }\n",
              "\n",
              "    .dataframe thead th {\n",
              "        text-align: right;\n",
              "    }\n",
              "</style>\n",
              "<table border=\"1\" class=\"dataframe\">\n",
              "  <thead>\n",
              "    <tr style=\"text-align: right;\">\n",
              "      <th></th>\n",
              "      <th>Age</th>\n",
              "      <th>Gender</th>\n",
              "      <th>Region</th>\n",
              "      <th>Occupation</th>\n",
              "      <th>Income</th>\n",
              "      <th>Has Laptop</th>\n",
              "    </tr>\n",
              "  </thead>\n",
              "  <tbody>\n",
              "    <tr>\n",
              "      <th>0</th>\n",
              "      <td>14</td>\n",
              "      <td>male</td>\n",
              "      <td>city</td>\n",
              "      <td>student</td>\n",
              "      <td>0</td>\n",
              "      <td>no</td>\n",
              "    </tr>\n",
              "    <tr>\n",
              "      <th>1</th>\n",
              "      <td>34</td>\n",
              "      <td>female</td>\n",
              "      <td>city</td>\n",
              "      <td>teacher</td>\n",
              "      <td>22000</td>\n",
              "      <td>no</td>\n",
              "    </tr>\n",
              "    <tr>\n",
              "      <th>2</th>\n",
              "      <td>42</td>\n",
              "      <td>male</td>\n",
              "      <td>countryside</td>\n",
              "      <td>banker</td>\n",
              "      <td>24000</td>\n",
              "      <td>yes</td>\n",
              "    </tr>\n",
              "    <tr>\n",
              "      <th>3</th>\n",
              "      <td>30</td>\n",
              "      <td>male</td>\n",
              "      <td>countryside</td>\n",
              "      <td>teacher</td>\n",
              "      <td>25000</td>\n",
              "      <td>no</td>\n",
              "    </tr>\n",
              "    <tr>\n",
              "      <th>4</th>\n",
              "      <td>16</td>\n",
              "      <td>male</td>\n",
              "      <td>city</td>\n",
              "      <td>student</td>\n",
              "      <td>0</td>\n",
              "      <td>no</td>\n",
              "    </tr>\n",
              "    <tr>\n",
              "      <th>5</th>\n",
              "      <td>33</td>\n",
              "      <td>female</td>\n",
              "      <td>city</td>\n",
              "      <td>banker</td>\n",
              "      <td>20000</td>\n",
              "      <td>yes</td>\n",
              "    </tr>\n",
              "    <tr>\n",
              "      <th>6</th>\n",
              "      <td>26</td>\n",
              "      <td>female</td>\n",
              "      <td>city</td>\n",
              "      <td>student</td>\n",
              "      <td>8000</td>\n",
              "      <td>yes</td>\n",
              "    </tr>\n",
              "    <tr>\n",
              "      <th>7</th>\n",
              "      <td>22</td>\n",
              "      <td>male</td>\n",
              "      <td>city</td>\n",
              "      <td>student</td>\n",
              "      <td>4000</td>\n",
              "      <td>yes</td>\n",
              "    </tr>\n",
              "    <tr>\n",
              "      <th>8</th>\n",
              "      <td>28</td>\n",
              "      <td>female</td>\n",
              "      <td>countryside</td>\n",
              "      <td>teacher</td>\n",
              "      <td>12000</td>\n",
              "      <td>no</td>\n",
              "    </tr>\n",
              "    <tr>\n",
              "      <th>9</th>\n",
              "      <td>27</td>\n",
              "      <td>female</td>\n",
              "      <td>city</td>\n",
              "      <td>student</td>\n",
              "      <td>7000</td>\n",
              "      <td>yes</td>\n",
              "    </tr>\n",
              "    <tr>\n",
              "      <th>10</th>\n",
              "      <td>19</td>\n",
              "      <td>male</td>\n",
              "      <td>city</td>\n",
              "      <td>student</td>\n",
              "      <td>10000</td>\n",
              "      <td>no</td>\n",
              "    </tr>\n",
              "    <tr>\n",
              "      <th>11</th>\n",
              "      <td>26</td>\n",
              "      <td>female</td>\n",
              "      <td>city</td>\n",
              "      <td>student</td>\n",
              "      <td>11000</td>\n",
              "      <td>yes</td>\n",
              "    </tr>\n",
              "    <tr>\n",
              "      <th>12</th>\n",
              "      <td>29</td>\n",
              "      <td>female</td>\n",
              "      <td>countryside</td>\n",
              "      <td>banker</td>\n",
              "      <td>18000</td>\n",
              "      <td>yes</td>\n",
              "    </tr>\n",
              "    <tr>\n",
              "      <th>13</th>\n",
              "      <td>36</td>\n",
              "      <td>male</td>\n",
              "      <td>countryside</td>\n",
              "      <td>banker</td>\n",
              "      <td>26000</td>\n",
              "      <td>no</td>\n",
              "    </tr>\n",
              "    <tr>\n",
              "      <th>14</th>\n",
              "      <td>35</td>\n",
              "      <td>male</td>\n",
              "      <td>city</td>\n",
              "      <td>student</td>\n",
              "      <td>8000</td>\n",
              "      <td>yes</td>\n",
              "    </tr>\n",
              "    <tr>\n",
              "      <th>15</th>\n",
              "      <td>54</td>\n",
              "      <td>male</td>\n",
              "      <td>city</td>\n",
              "      <td>officer</td>\n",
              "      <td>30000</td>\n",
              "      <td>yes</td>\n",
              "    </tr>\n",
              "    <tr>\n",
              "      <th>16</th>\n",
              "      <td>15</td>\n",
              "      <td>male</td>\n",
              "      <td>city</td>\n",
              "      <td>student</td>\n",
              "      <td>2000</td>\n",
              "      <td>yes</td>\n",
              "    </tr>\n",
              "    <tr>\n",
              "      <th>17</th>\n",
              "      <td>49</td>\n",
              "      <td>female</td>\n",
              "      <td>countryside</td>\n",
              "      <td>officer</td>\n",
              "      <td>25000</td>\n",
              "      <td>yes</td>\n",
              "    </tr>\n",
              "    <tr>\n",
              "      <th>18</th>\n",
              "      <td>26</td>\n",
              "      <td>male</td>\n",
              "      <td>city</td>\n",
              "      <td>teacher</td>\n",
              "      <td>14000</td>\n",
              "      <td>no</td>\n",
              "    </tr>\n",
              "    <tr>\n",
              "      <th>19</th>\n",
              "      <td>43</td>\n",
              "      <td>male</td>\n",
              "      <td>city</td>\n",
              "      <td>banker</td>\n",
              "      <td>27000</td>\n",
              "      <td>no</td>\n",
              "    </tr>\n",
              "  </tbody>\n",
              "</table>\n",
              "</div>"
            ],
            "text/plain": [
              "    Age  Gender       Region Occupation  Income Has Laptop\n",
              "0    14    male         city    student       0         no\n",
              "1    34  female         city    teacher   22000         no\n",
              "2    42    male  countryside     banker   24000        yes\n",
              "3    30    male  countryside    teacher   25000         no\n",
              "4    16    male         city    student       0         no\n",
              "5    33  female         city     banker   20000        yes\n",
              "6    26  female         city    student    8000        yes\n",
              "7    22    male         city    student    4000        yes\n",
              "8    28  female  countryside    teacher   12000         no\n",
              "9    27  female         city    student    7000        yes\n",
              "10   19    male         city    student   10000         no\n",
              "11   26  female         city    student   11000        yes\n",
              "12   29  female  countryside     banker   18000        yes\n",
              "13   36    male  countryside     banker   26000         no\n",
              "14   35    male         city    student    8000        yes\n",
              "15   54    male         city    officer   30000        yes\n",
              "16   15    male         city    student    2000        yes\n",
              "17   49  female  countryside    officer   25000        yes\n",
              "18   26    male         city    teacher   14000         no\n",
              "19   43    male         city     banker   27000         no"
            ]
          },
          "metadata": {},
          "execution_count": 28
        }
      ]
    },
    {
      "cell_type": "code",
      "metadata": {
        "id": "y_vfC3-ZiOSX",
        "colab": {
          "base_uri": "https://localhost:8080/",
          "height": 653
        },
        "outputId": "b68321a3-73ae-4881-ba7b-71808fc21679"
      },
      "source": [
        "df.fillna(df.mean())"
      ],
      "execution_count": null,
      "outputs": [
        {
          "output_type": "execute_result",
          "data": {
            "text/html": [
              "<div>\n",
              "<style scoped>\n",
              "    .dataframe tbody tr th:only-of-type {\n",
              "        vertical-align: middle;\n",
              "    }\n",
              "\n",
              "    .dataframe tbody tr th {\n",
              "        vertical-align: top;\n",
              "    }\n",
              "\n",
              "    .dataframe thead th {\n",
              "        text-align: right;\n",
              "    }\n",
              "</style>\n",
              "<table border=\"1\" class=\"dataframe\">\n",
              "  <thead>\n",
              "    <tr style=\"text-align: right;\">\n",
              "      <th></th>\n",
              "      <th>Age</th>\n",
              "      <th>Gender</th>\n",
              "      <th>Region</th>\n",
              "      <th>Occupation</th>\n",
              "      <th>Income</th>\n",
              "      <th>Has Laptop</th>\n",
              "    </tr>\n",
              "  </thead>\n",
              "  <tbody>\n",
              "    <tr>\n",
              "      <th>0</th>\n",
              "      <td>14</td>\n",
              "      <td>male</td>\n",
              "      <td>city</td>\n",
              "      <td>student</td>\n",
              "      <td>0</td>\n",
              "      <td>no</td>\n",
              "    </tr>\n",
              "    <tr>\n",
              "      <th>1</th>\n",
              "      <td>34</td>\n",
              "      <td>female</td>\n",
              "      <td>city</td>\n",
              "      <td>teacher</td>\n",
              "      <td>22000</td>\n",
              "      <td>no</td>\n",
              "    </tr>\n",
              "    <tr>\n",
              "      <th>2</th>\n",
              "      <td>42</td>\n",
              "      <td>male</td>\n",
              "      <td>countryside</td>\n",
              "      <td>banker</td>\n",
              "      <td>24000</td>\n",
              "      <td>yes</td>\n",
              "    </tr>\n",
              "    <tr>\n",
              "      <th>3</th>\n",
              "      <td>30</td>\n",
              "      <td>male</td>\n",
              "      <td>countryside</td>\n",
              "      <td>teacher</td>\n",
              "      <td>25000</td>\n",
              "      <td>no</td>\n",
              "    </tr>\n",
              "    <tr>\n",
              "      <th>4</th>\n",
              "      <td>16</td>\n",
              "      <td>male</td>\n",
              "      <td>city</td>\n",
              "      <td>student</td>\n",
              "      <td>0</td>\n",
              "      <td>no</td>\n",
              "    </tr>\n",
              "    <tr>\n",
              "      <th>5</th>\n",
              "      <td>33</td>\n",
              "      <td>female</td>\n",
              "      <td>city</td>\n",
              "      <td>banker</td>\n",
              "      <td>20000</td>\n",
              "      <td>yes</td>\n",
              "    </tr>\n",
              "    <tr>\n",
              "      <th>6</th>\n",
              "      <td>26</td>\n",
              "      <td>female</td>\n",
              "      <td>city</td>\n",
              "      <td>student</td>\n",
              "      <td>8000</td>\n",
              "      <td>yes</td>\n",
              "    </tr>\n",
              "    <tr>\n",
              "      <th>7</th>\n",
              "      <td>22</td>\n",
              "      <td>male</td>\n",
              "      <td>city</td>\n",
              "      <td>student</td>\n",
              "      <td>4000</td>\n",
              "      <td>yes</td>\n",
              "    </tr>\n",
              "    <tr>\n",
              "      <th>8</th>\n",
              "      <td>28</td>\n",
              "      <td>female</td>\n",
              "      <td>countryside</td>\n",
              "      <td>teacher</td>\n",
              "      <td>12000</td>\n",
              "      <td>no</td>\n",
              "    </tr>\n",
              "    <tr>\n",
              "      <th>9</th>\n",
              "      <td>27</td>\n",
              "      <td>female</td>\n",
              "      <td>city</td>\n",
              "      <td>student</td>\n",
              "      <td>7000</td>\n",
              "      <td>yes</td>\n",
              "    </tr>\n",
              "    <tr>\n",
              "      <th>10</th>\n",
              "      <td>19</td>\n",
              "      <td>male</td>\n",
              "      <td>city</td>\n",
              "      <td>student</td>\n",
              "      <td>10000</td>\n",
              "      <td>no</td>\n",
              "    </tr>\n",
              "    <tr>\n",
              "      <th>11</th>\n",
              "      <td>26</td>\n",
              "      <td>female</td>\n",
              "      <td>city</td>\n",
              "      <td>student</td>\n",
              "      <td>11000</td>\n",
              "      <td>yes</td>\n",
              "    </tr>\n",
              "    <tr>\n",
              "      <th>12</th>\n",
              "      <td>29</td>\n",
              "      <td>female</td>\n",
              "      <td>countryside</td>\n",
              "      <td>banker</td>\n",
              "      <td>18000</td>\n",
              "      <td>yes</td>\n",
              "    </tr>\n",
              "    <tr>\n",
              "      <th>13</th>\n",
              "      <td>36</td>\n",
              "      <td>male</td>\n",
              "      <td>countryside</td>\n",
              "      <td>banker</td>\n",
              "      <td>26000</td>\n",
              "      <td>no</td>\n",
              "    </tr>\n",
              "    <tr>\n",
              "      <th>14</th>\n",
              "      <td>35</td>\n",
              "      <td>male</td>\n",
              "      <td>city</td>\n",
              "      <td>student</td>\n",
              "      <td>8000</td>\n",
              "      <td>yes</td>\n",
              "    </tr>\n",
              "    <tr>\n",
              "      <th>15</th>\n",
              "      <td>54</td>\n",
              "      <td>male</td>\n",
              "      <td>city</td>\n",
              "      <td>officer</td>\n",
              "      <td>30000</td>\n",
              "      <td>yes</td>\n",
              "    </tr>\n",
              "    <tr>\n",
              "      <th>16</th>\n",
              "      <td>15</td>\n",
              "      <td>male</td>\n",
              "      <td>city</td>\n",
              "      <td>student</td>\n",
              "      <td>2000</td>\n",
              "      <td>yes</td>\n",
              "    </tr>\n",
              "    <tr>\n",
              "      <th>17</th>\n",
              "      <td>49</td>\n",
              "      <td>female</td>\n",
              "      <td>countryside</td>\n",
              "      <td>officer</td>\n",
              "      <td>25000</td>\n",
              "      <td>yes</td>\n",
              "    </tr>\n",
              "    <tr>\n",
              "      <th>18</th>\n",
              "      <td>26</td>\n",
              "      <td>male</td>\n",
              "      <td>city</td>\n",
              "      <td>teacher</td>\n",
              "      <td>14000</td>\n",
              "      <td>no</td>\n",
              "    </tr>\n",
              "    <tr>\n",
              "      <th>19</th>\n",
              "      <td>43</td>\n",
              "      <td>male</td>\n",
              "      <td>city</td>\n",
              "      <td>banker</td>\n",
              "      <td>27000</td>\n",
              "      <td>no</td>\n",
              "    </tr>\n",
              "  </tbody>\n",
              "</table>\n",
              "</div>"
            ],
            "text/plain": [
              "    Age  Gender       Region Occupation  Income Has Laptop\n",
              "0    14    male         city    student       0         no\n",
              "1    34  female         city    teacher   22000         no\n",
              "2    42    male  countryside     banker   24000        yes\n",
              "3    30    male  countryside    teacher   25000         no\n",
              "4    16    male         city    student       0         no\n",
              "5    33  female         city     banker   20000        yes\n",
              "6    26  female         city    student    8000        yes\n",
              "7    22    male         city    student    4000        yes\n",
              "8    28  female  countryside    teacher   12000         no\n",
              "9    27  female         city    student    7000        yes\n",
              "10   19    male         city    student   10000         no\n",
              "11   26  female         city    student   11000        yes\n",
              "12   29  female  countryside     banker   18000        yes\n",
              "13   36    male  countryside     banker   26000         no\n",
              "14   35    male         city    student    8000        yes\n",
              "15   54    male         city    officer   30000        yes\n",
              "16   15    male         city    student    2000        yes\n",
              "17   49  female  countryside    officer   25000        yes\n",
              "18   26    male         city    teacher   14000         no\n",
              "19   43    male         city     banker   27000         no"
            ]
          },
          "metadata": {},
          "execution_count": 29
        }
      ]
    },
    {
      "cell_type": "code",
      "metadata": {
        "colab": {
          "base_uri": "https://localhost:8080/",
          "height": 653
        },
        "id": "8T94xc53imR2",
        "outputId": "9c5d6c3d-6ec0-4cf0-c694-884a3f283dc3"
      },
      "source": [
        "df.fillna(method='ffill')"
      ],
      "execution_count": null,
      "outputs": [
        {
          "output_type": "execute_result",
          "data": {
            "text/html": [
              "<div>\n",
              "<style scoped>\n",
              "    .dataframe tbody tr th:only-of-type {\n",
              "        vertical-align: middle;\n",
              "    }\n",
              "\n",
              "    .dataframe tbody tr th {\n",
              "        vertical-align: top;\n",
              "    }\n",
              "\n",
              "    .dataframe thead th {\n",
              "        text-align: right;\n",
              "    }\n",
              "</style>\n",
              "<table border=\"1\" class=\"dataframe\">\n",
              "  <thead>\n",
              "    <tr style=\"text-align: right;\">\n",
              "      <th></th>\n",
              "      <th>Age</th>\n",
              "      <th>Gender</th>\n",
              "      <th>Region</th>\n",
              "      <th>Occupation</th>\n",
              "      <th>Income</th>\n",
              "      <th>Has Laptop</th>\n",
              "    </tr>\n",
              "  </thead>\n",
              "  <tbody>\n",
              "    <tr>\n",
              "      <th>0</th>\n",
              "      <td>14</td>\n",
              "      <td>male</td>\n",
              "      <td>city</td>\n",
              "      <td>student</td>\n",
              "      <td>0</td>\n",
              "      <td>no</td>\n",
              "    </tr>\n",
              "    <tr>\n",
              "      <th>1</th>\n",
              "      <td>34</td>\n",
              "      <td>female</td>\n",
              "      <td>city</td>\n",
              "      <td>teacher</td>\n",
              "      <td>22000</td>\n",
              "      <td>no</td>\n",
              "    </tr>\n",
              "    <tr>\n",
              "      <th>2</th>\n",
              "      <td>42</td>\n",
              "      <td>male</td>\n",
              "      <td>countryside</td>\n",
              "      <td>banker</td>\n",
              "      <td>24000</td>\n",
              "      <td>yes</td>\n",
              "    </tr>\n",
              "    <tr>\n",
              "      <th>3</th>\n",
              "      <td>30</td>\n",
              "      <td>male</td>\n",
              "      <td>countryside</td>\n",
              "      <td>teacher</td>\n",
              "      <td>25000</td>\n",
              "      <td>no</td>\n",
              "    </tr>\n",
              "    <tr>\n",
              "      <th>4</th>\n",
              "      <td>16</td>\n",
              "      <td>male</td>\n",
              "      <td>city</td>\n",
              "      <td>student</td>\n",
              "      <td>0</td>\n",
              "      <td>no</td>\n",
              "    </tr>\n",
              "    <tr>\n",
              "      <th>5</th>\n",
              "      <td>33</td>\n",
              "      <td>female</td>\n",
              "      <td>city</td>\n",
              "      <td>banker</td>\n",
              "      <td>20000</td>\n",
              "      <td>yes</td>\n",
              "    </tr>\n",
              "    <tr>\n",
              "      <th>6</th>\n",
              "      <td>26</td>\n",
              "      <td>female</td>\n",
              "      <td>city</td>\n",
              "      <td>student</td>\n",
              "      <td>8000</td>\n",
              "      <td>yes</td>\n",
              "    </tr>\n",
              "    <tr>\n",
              "      <th>7</th>\n",
              "      <td>22</td>\n",
              "      <td>male</td>\n",
              "      <td>city</td>\n",
              "      <td>student</td>\n",
              "      <td>4000</td>\n",
              "      <td>yes</td>\n",
              "    </tr>\n",
              "    <tr>\n",
              "      <th>8</th>\n",
              "      <td>28</td>\n",
              "      <td>female</td>\n",
              "      <td>countryside</td>\n",
              "      <td>teacher</td>\n",
              "      <td>12000</td>\n",
              "      <td>no</td>\n",
              "    </tr>\n",
              "    <tr>\n",
              "      <th>9</th>\n",
              "      <td>27</td>\n",
              "      <td>female</td>\n",
              "      <td>city</td>\n",
              "      <td>student</td>\n",
              "      <td>7000</td>\n",
              "      <td>yes</td>\n",
              "    </tr>\n",
              "    <tr>\n",
              "      <th>10</th>\n",
              "      <td>19</td>\n",
              "      <td>male</td>\n",
              "      <td>city</td>\n",
              "      <td>student</td>\n",
              "      <td>10000</td>\n",
              "      <td>no</td>\n",
              "    </tr>\n",
              "    <tr>\n",
              "      <th>11</th>\n",
              "      <td>26</td>\n",
              "      <td>female</td>\n",
              "      <td>city</td>\n",
              "      <td>student</td>\n",
              "      <td>11000</td>\n",
              "      <td>yes</td>\n",
              "    </tr>\n",
              "    <tr>\n",
              "      <th>12</th>\n",
              "      <td>29</td>\n",
              "      <td>female</td>\n",
              "      <td>countryside</td>\n",
              "      <td>banker</td>\n",
              "      <td>18000</td>\n",
              "      <td>yes</td>\n",
              "    </tr>\n",
              "    <tr>\n",
              "      <th>13</th>\n",
              "      <td>36</td>\n",
              "      <td>male</td>\n",
              "      <td>countryside</td>\n",
              "      <td>banker</td>\n",
              "      <td>26000</td>\n",
              "      <td>no</td>\n",
              "    </tr>\n",
              "    <tr>\n",
              "      <th>14</th>\n",
              "      <td>35</td>\n",
              "      <td>male</td>\n",
              "      <td>city</td>\n",
              "      <td>student</td>\n",
              "      <td>8000</td>\n",
              "      <td>yes</td>\n",
              "    </tr>\n",
              "    <tr>\n",
              "      <th>15</th>\n",
              "      <td>54</td>\n",
              "      <td>male</td>\n",
              "      <td>city</td>\n",
              "      <td>officer</td>\n",
              "      <td>30000</td>\n",
              "      <td>yes</td>\n",
              "    </tr>\n",
              "    <tr>\n",
              "      <th>16</th>\n",
              "      <td>15</td>\n",
              "      <td>male</td>\n",
              "      <td>city</td>\n",
              "      <td>student</td>\n",
              "      <td>2000</td>\n",
              "      <td>yes</td>\n",
              "    </tr>\n",
              "    <tr>\n",
              "      <th>17</th>\n",
              "      <td>49</td>\n",
              "      <td>female</td>\n",
              "      <td>countryside</td>\n",
              "      <td>officer</td>\n",
              "      <td>25000</td>\n",
              "      <td>yes</td>\n",
              "    </tr>\n",
              "    <tr>\n",
              "      <th>18</th>\n",
              "      <td>26</td>\n",
              "      <td>male</td>\n",
              "      <td>city</td>\n",
              "      <td>teacher</td>\n",
              "      <td>14000</td>\n",
              "      <td>no</td>\n",
              "    </tr>\n",
              "    <tr>\n",
              "      <th>19</th>\n",
              "      <td>43</td>\n",
              "      <td>male</td>\n",
              "      <td>city</td>\n",
              "      <td>banker</td>\n",
              "      <td>27000</td>\n",
              "      <td>no</td>\n",
              "    </tr>\n",
              "  </tbody>\n",
              "</table>\n",
              "</div>"
            ],
            "text/plain": [
              "    Age  Gender       Region Occupation  Income Has Laptop\n",
              "0    14    male         city    student       0         no\n",
              "1    34  female         city    teacher   22000         no\n",
              "2    42    male  countryside     banker   24000        yes\n",
              "3    30    male  countryside    teacher   25000         no\n",
              "4    16    male         city    student       0         no\n",
              "5    33  female         city     banker   20000        yes\n",
              "6    26  female         city    student    8000        yes\n",
              "7    22    male         city    student    4000        yes\n",
              "8    28  female  countryside    teacher   12000         no\n",
              "9    27  female         city    student    7000        yes\n",
              "10   19    male         city    student   10000         no\n",
              "11   26  female         city    student   11000        yes\n",
              "12   29  female  countryside     banker   18000        yes\n",
              "13   36    male  countryside     banker   26000         no\n",
              "14   35    male         city    student    8000        yes\n",
              "15   54    male         city    officer   30000        yes\n",
              "16   15    male         city    student    2000        yes\n",
              "17   49  female  countryside    officer   25000        yes\n",
              "18   26    male         city    teacher   14000         no\n",
              "19   43    male         city     banker   27000         no"
            ]
          },
          "metadata": {},
          "execution_count": 30
        }
      ]
    },
    {
      "cell_type": "code",
      "metadata": {
        "colab": {
          "base_uri": "https://localhost:8080/",
          "height": 653
        },
        "id": "xZcwEr8jiuAN",
        "outputId": "4760c01a-7820-4e88-960d-b17b95eb597d"
      },
      "source": [
        "df.fillna(method='bfill')"
      ],
      "execution_count": null,
      "outputs": [
        {
          "output_type": "execute_result",
          "data": {
            "text/html": [
              "<div>\n",
              "<style scoped>\n",
              "    .dataframe tbody tr th:only-of-type {\n",
              "        vertical-align: middle;\n",
              "    }\n",
              "\n",
              "    .dataframe tbody tr th {\n",
              "        vertical-align: top;\n",
              "    }\n",
              "\n",
              "    .dataframe thead th {\n",
              "        text-align: right;\n",
              "    }\n",
              "</style>\n",
              "<table border=\"1\" class=\"dataframe\">\n",
              "  <thead>\n",
              "    <tr style=\"text-align: right;\">\n",
              "      <th></th>\n",
              "      <th>Age</th>\n",
              "      <th>Gender</th>\n",
              "      <th>Region</th>\n",
              "      <th>Occupation</th>\n",
              "      <th>Income</th>\n",
              "      <th>Has Laptop</th>\n",
              "    </tr>\n",
              "  </thead>\n",
              "  <tbody>\n",
              "    <tr>\n",
              "      <th>0</th>\n",
              "      <td>14</td>\n",
              "      <td>male</td>\n",
              "      <td>city</td>\n",
              "      <td>student</td>\n",
              "      <td>0</td>\n",
              "      <td>no</td>\n",
              "    </tr>\n",
              "    <tr>\n",
              "      <th>1</th>\n",
              "      <td>34</td>\n",
              "      <td>female</td>\n",
              "      <td>city</td>\n",
              "      <td>teacher</td>\n",
              "      <td>22000</td>\n",
              "      <td>no</td>\n",
              "    </tr>\n",
              "    <tr>\n",
              "      <th>2</th>\n",
              "      <td>42</td>\n",
              "      <td>male</td>\n",
              "      <td>countryside</td>\n",
              "      <td>banker</td>\n",
              "      <td>24000</td>\n",
              "      <td>yes</td>\n",
              "    </tr>\n",
              "    <tr>\n",
              "      <th>3</th>\n",
              "      <td>30</td>\n",
              "      <td>male</td>\n",
              "      <td>countryside</td>\n",
              "      <td>teacher</td>\n",
              "      <td>25000</td>\n",
              "      <td>no</td>\n",
              "    </tr>\n",
              "    <tr>\n",
              "      <th>4</th>\n",
              "      <td>16</td>\n",
              "      <td>male</td>\n",
              "      <td>city</td>\n",
              "      <td>student</td>\n",
              "      <td>0</td>\n",
              "      <td>no</td>\n",
              "    </tr>\n",
              "    <tr>\n",
              "      <th>5</th>\n",
              "      <td>33</td>\n",
              "      <td>female</td>\n",
              "      <td>city</td>\n",
              "      <td>banker</td>\n",
              "      <td>20000</td>\n",
              "      <td>yes</td>\n",
              "    </tr>\n",
              "    <tr>\n",
              "      <th>6</th>\n",
              "      <td>26</td>\n",
              "      <td>female</td>\n",
              "      <td>city</td>\n",
              "      <td>student</td>\n",
              "      <td>8000</td>\n",
              "      <td>yes</td>\n",
              "    </tr>\n",
              "    <tr>\n",
              "      <th>7</th>\n",
              "      <td>22</td>\n",
              "      <td>male</td>\n",
              "      <td>city</td>\n",
              "      <td>student</td>\n",
              "      <td>4000</td>\n",
              "      <td>yes</td>\n",
              "    </tr>\n",
              "    <tr>\n",
              "      <th>8</th>\n",
              "      <td>28</td>\n",
              "      <td>female</td>\n",
              "      <td>countryside</td>\n",
              "      <td>teacher</td>\n",
              "      <td>12000</td>\n",
              "      <td>no</td>\n",
              "    </tr>\n",
              "    <tr>\n",
              "      <th>9</th>\n",
              "      <td>27</td>\n",
              "      <td>female</td>\n",
              "      <td>city</td>\n",
              "      <td>student</td>\n",
              "      <td>7000</td>\n",
              "      <td>yes</td>\n",
              "    </tr>\n",
              "    <tr>\n",
              "      <th>10</th>\n",
              "      <td>19</td>\n",
              "      <td>male</td>\n",
              "      <td>city</td>\n",
              "      <td>student</td>\n",
              "      <td>10000</td>\n",
              "      <td>no</td>\n",
              "    </tr>\n",
              "    <tr>\n",
              "      <th>11</th>\n",
              "      <td>26</td>\n",
              "      <td>female</td>\n",
              "      <td>city</td>\n",
              "      <td>student</td>\n",
              "      <td>11000</td>\n",
              "      <td>yes</td>\n",
              "    </tr>\n",
              "    <tr>\n",
              "      <th>12</th>\n",
              "      <td>29</td>\n",
              "      <td>female</td>\n",
              "      <td>countryside</td>\n",
              "      <td>banker</td>\n",
              "      <td>18000</td>\n",
              "      <td>yes</td>\n",
              "    </tr>\n",
              "    <tr>\n",
              "      <th>13</th>\n",
              "      <td>36</td>\n",
              "      <td>male</td>\n",
              "      <td>countryside</td>\n",
              "      <td>banker</td>\n",
              "      <td>26000</td>\n",
              "      <td>no</td>\n",
              "    </tr>\n",
              "    <tr>\n",
              "      <th>14</th>\n",
              "      <td>35</td>\n",
              "      <td>male</td>\n",
              "      <td>city</td>\n",
              "      <td>student</td>\n",
              "      <td>8000</td>\n",
              "      <td>yes</td>\n",
              "    </tr>\n",
              "    <tr>\n",
              "      <th>15</th>\n",
              "      <td>54</td>\n",
              "      <td>male</td>\n",
              "      <td>city</td>\n",
              "      <td>officer</td>\n",
              "      <td>30000</td>\n",
              "      <td>yes</td>\n",
              "    </tr>\n",
              "    <tr>\n",
              "      <th>16</th>\n",
              "      <td>15</td>\n",
              "      <td>male</td>\n",
              "      <td>city</td>\n",
              "      <td>student</td>\n",
              "      <td>2000</td>\n",
              "      <td>yes</td>\n",
              "    </tr>\n",
              "    <tr>\n",
              "      <th>17</th>\n",
              "      <td>49</td>\n",
              "      <td>female</td>\n",
              "      <td>countryside</td>\n",
              "      <td>officer</td>\n",
              "      <td>25000</td>\n",
              "      <td>yes</td>\n",
              "    </tr>\n",
              "    <tr>\n",
              "      <th>18</th>\n",
              "      <td>26</td>\n",
              "      <td>male</td>\n",
              "      <td>city</td>\n",
              "      <td>teacher</td>\n",
              "      <td>14000</td>\n",
              "      <td>no</td>\n",
              "    </tr>\n",
              "    <tr>\n",
              "      <th>19</th>\n",
              "      <td>43</td>\n",
              "      <td>male</td>\n",
              "      <td>city</td>\n",
              "      <td>banker</td>\n",
              "      <td>27000</td>\n",
              "      <td>no</td>\n",
              "    </tr>\n",
              "  </tbody>\n",
              "</table>\n",
              "</div>"
            ],
            "text/plain": [
              "    Age  Gender       Region Occupation  Income Has Laptop\n",
              "0    14    male         city    student       0         no\n",
              "1    34  female         city    teacher   22000         no\n",
              "2    42    male  countryside     banker   24000        yes\n",
              "3    30    male  countryside    teacher   25000         no\n",
              "4    16    male         city    student       0         no\n",
              "5    33  female         city     banker   20000        yes\n",
              "6    26  female         city    student    8000        yes\n",
              "7    22    male         city    student    4000        yes\n",
              "8    28  female  countryside    teacher   12000         no\n",
              "9    27  female         city    student    7000        yes\n",
              "10   19    male         city    student   10000         no\n",
              "11   26  female         city    student   11000        yes\n",
              "12   29  female  countryside     banker   18000        yes\n",
              "13   36    male  countryside     banker   26000         no\n",
              "14   35    male         city    student    8000        yes\n",
              "15   54    male         city    officer   30000        yes\n",
              "16   15    male         city    student    2000        yes\n",
              "17   49  female  countryside    officer   25000        yes\n",
              "18   26    male         city    teacher   14000         no\n",
              "19   43    male         city     banker   27000         no"
            ]
          },
          "metadata": {},
          "execution_count": 31
        }
      ]
    },
    {
      "cell_type": "code",
      "metadata": {
        "colab": {
          "base_uri": "https://localhost:8080/"
        },
        "id": "le6Iy0n0kjrv",
        "outputId": "15d20fe7-e5ad-4b55-ef10-db9430edfddc"
      },
      "source": [
        "pd.Series([np.nan,3,np.nan,9]).fillna(method='ffill')"
      ],
      "execution_count": null,
      "outputs": [
        {
          "output_type": "execute_result",
          "data": {
            "text/plain": [
              "0    NaN\n",
              "1    3.0\n",
              "2    3.0\n",
              "3    9.0\n",
              "dtype: float64"
            ]
          },
          "metadata": {},
          "execution_count": 32
        }
      ]
    },
    {
      "cell_type": "code",
      "metadata": {
        "colab": {
          "base_uri": "https://localhost:8080/"
        },
        "id": "J0hqO53JlGDn",
        "outputId": "573e807c-6779-46f2-e636-0af03b64b89f"
      },
      "source": [
        "pd.Series([np.nan,3,np.nan,9]).fillna(method='bfill')"
      ],
      "execution_count": null,
      "outputs": [
        {
          "output_type": "execute_result",
          "data": {
            "text/plain": [
              "0    3.0\n",
              "1    3.0\n",
              "2    9.0\n",
              "3    9.0\n",
              "dtype: float64"
            ]
          },
          "metadata": {},
          "execution_count": 33
        }
      ]
    },
    {
      "cell_type": "code",
      "metadata": {
        "colab": {
          "base_uri": "https://localhost:8080/"
        },
        "id": "rZMFTwycnPm8",
        "outputId": "ab1bcb1b-6dc0-4771-b7a3-792d6a2a4321"
      },
      "source": [
        "df['Occupation'].unique()"
      ],
      "execution_count": null,
      "outputs": [
        {
          "output_type": "execute_result",
          "data": {
            "text/plain": [
              "array(['student', 'teacher', 'banker', 'officer'], dtype=object)"
            ]
          },
          "metadata": {},
          "execution_count": 34
        }
      ]
    },
    {
      "cell_type": "code",
      "metadata": {
        "colab": {
          "base_uri": "https://localhost:8080/"
        },
        "id": "59JYuGjKnZbR",
        "outputId": "f37d3686-dac4-4a77-fa1d-a10e3f1e10cc"
      },
      "source": [
        "df['Region'].replace('city', 'Cityy')"
      ],
      "execution_count": null,
      "outputs": [
        {
          "output_type": "execute_result",
          "data": {
            "text/plain": [
              "0           Cityy\n",
              "1           Cityy\n",
              "2     countryside\n",
              "3     countryside\n",
              "4           Cityy\n",
              "5           Cityy\n",
              "6           Cityy\n",
              "7           Cityy\n",
              "8     countryside\n",
              "9           Cityy\n",
              "10          Cityy\n",
              "11          Cityy\n",
              "12    countryside\n",
              "13    countryside\n",
              "14          Cityy\n",
              "15          Cityy\n",
              "16          Cityy\n",
              "17    countryside\n",
              "18          Cityy\n",
              "19          Cityy\n",
              "Name: Region, dtype: object"
            ]
          },
          "metadata": {},
          "execution_count": 35
        }
      ]
    },
    {
      "cell_type": "code",
      "metadata": {
        "colab": {
          "base_uri": "https://localhost:8080/"
        },
        "id": "P4fSqs0hoK0W",
        "outputId": "9d0502bb-c97f-45b4-e9c9-88510f5da201"
      },
      "source": [
        "df['Occupation'].value_counts()"
      ],
      "execution_count": null,
      "outputs": [
        {
          "output_type": "execute_result",
          "data": {
            "text/plain": [
              "student    9\n",
              "banker     5\n",
              "teacher    4\n",
              "officer    2\n",
              "Name: Occupation, dtype: int64"
            ]
          },
          "metadata": {},
          "execution_count": 36
        }
      ]
    },
    {
      "cell_type": "markdown",
      "metadata": {
        "id": "qlZIHPhizdCP"
      },
      "source": [
        "# **Duplicate**"
      ]
    },
    {
      "cell_type": "code",
      "metadata": {
        "colab": {
          "base_uri": "https://localhost:8080/"
        },
        "id": "GBgQzJgxq5cM",
        "outputId": "b41ce9d5-a534-4f63-84f1-54129b545884"
      },
      "source": [
        "df['Income'].duplicated()"
      ],
      "execution_count": null,
      "outputs": [
        {
          "output_type": "execute_result",
          "data": {
            "text/plain": [
              "0     False\n",
              "1     False\n",
              "2     False\n",
              "3     False\n",
              "4      True\n",
              "5     False\n",
              "6     False\n",
              "7     False\n",
              "8     False\n",
              "9     False\n",
              "10    False\n",
              "11    False\n",
              "12    False\n",
              "13    False\n",
              "14     True\n",
              "15    False\n",
              "16    False\n",
              "17     True\n",
              "18    False\n",
              "19    False\n",
              "Name: Income, dtype: bool"
            ]
          },
          "metadata": {},
          "execution_count": 37
        }
      ]
    },
    {
      "cell_type": "code",
      "metadata": {
        "colab": {
          "base_uri": "https://localhost:8080/"
        },
        "id": "6iF1UrDjwuFa",
        "outputId": "57c12fc5-bec3-4dee-af55-0387b95cca64"
      },
      "source": [
        "df['Income'].duplicated(keep='last')"
      ],
      "execution_count": null,
      "outputs": [
        {
          "output_type": "execute_result",
          "data": {
            "text/plain": [
              "0      True\n",
              "1     False\n",
              "2     False\n",
              "3      True\n",
              "4     False\n",
              "5     False\n",
              "6      True\n",
              "7     False\n",
              "8     False\n",
              "9     False\n",
              "10    False\n",
              "11    False\n",
              "12    False\n",
              "13    False\n",
              "14    False\n",
              "15    False\n",
              "16    False\n",
              "17    False\n",
              "18    False\n",
              "19    False\n",
              "Name: Income, dtype: bool"
            ]
          },
          "metadata": {},
          "execution_count": 38
        }
      ]
    },
    {
      "cell_type": "code",
      "metadata": {
        "id": "TL75vKFtyWf2"
      },
      "source": [
        "ambassadors = pd.Series([\n",
        "    'France',\n",
        "    'United Kingdom',\n",
        "    'United Kingdom',\n",
        "    'Italy',\n",
        "    'Germany',\n",
        "    'Germany',\n",
        "    'Germany',\n",
        "], index=[\n",
        "    'Gérard Araud',\n",
        "    'Kim Darroch',\n",
        "    'Peter Westmacott',\n",
        "    'Armando Varricchio',\n",
        "    'Peter Wittig',\n",
        "    'Peter Ammon',\n",
        "    'Klaus Scharioth '\n",
        "])"
      ],
      "execution_count": null,
      "outputs": []
    },
    {
      "cell_type": "code",
      "metadata": {
        "colab": {
          "base_uri": "https://localhost:8080/"
        },
        "id": "7i0c_xglzo96",
        "outputId": "47f9e886-ea94-4abc-b640-a2179e4535b5"
      },
      "source": [
        "ambassadors"
      ],
      "execution_count": null,
      "outputs": [
        {
          "output_type": "execute_result",
          "data": {
            "text/plain": [
              "Gérard Araud                  France\n",
              "Kim Darroch           United Kingdom\n",
              "Peter Westmacott      United Kingdom\n",
              "Armando Varricchio             Italy\n",
              "Peter Wittig                 Germany\n",
              "Peter Ammon                  Germany\n",
              "Klaus Scharioth              Germany\n",
              "dtype: object"
            ]
          },
          "metadata": {},
          "execution_count": 40
        }
      ]
    },
    {
      "cell_type": "code",
      "metadata": {
        "colab": {
          "base_uri": "https://localhost:8080/"
        },
        "id": "ODuKF6_YzsXf",
        "outputId": "d2e1c6e3-360c-4a39-ac0a-2b81a8c2c79d"
      },
      "source": [
        "\n",
        "ambassadors.duplicated()"
      ],
      "execution_count": null,
      "outputs": [
        {
          "output_type": "execute_result",
          "data": {
            "text/plain": [
              "Gérard Araud          False\n",
              "Kim Darroch           False\n",
              "Peter Westmacott       True\n",
              "Armando Varricchio    False\n",
              "Peter Wittig          False\n",
              "Peter Ammon            True\n",
              "Klaus Scharioth        True\n",
              "dtype: bool"
            ]
          },
          "metadata": {},
          "execution_count": 41
        }
      ]
    },
    {
      "cell_type": "code",
      "metadata": {
        "colab": {
          "base_uri": "https://localhost:8080/"
        },
        "id": "A3QolffazvME",
        "outputId": "07f540af-f83b-4509-ac68-7d71946e9157"
      },
      "source": [
        "ambassadors.duplicated(keep='last')"
      ],
      "execution_count": null,
      "outputs": [
        {
          "output_type": "execute_result",
          "data": {
            "text/plain": [
              "Gérard Araud          False\n",
              "Kim Darroch            True\n",
              "Peter Westmacott      False\n",
              "Armando Varricchio    False\n",
              "Peter Wittig           True\n",
              "Peter Ammon            True\n",
              "Klaus Scharioth       False\n",
              "dtype: bool"
            ]
          },
          "metadata": {},
          "execution_count": 42
        }
      ]
    },
    {
      "cell_type": "code",
      "metadata": {
        "colab": {
          "base_uri": "https://localhost:8080/"
        },
        "id": "IngxrJfXzyMt",
        "outputId": "5b3cc2de-0424-4e5d-cce3-eeefd1e4b595"
      },
      "source": [
        "\n",
        "ambassadors.duplicated(keep=False)"
      ],
      "execution_count": null,
      "outputs": [
        {
          "output_type": "execute_result",
          "data": {
            "text/plain": [
              "Gérard Araud          False\n",
              "Kim Darroch            True\n",
              "Peter Westmacott       True\n",
              "Armando Varricchio    False\n",
              "Peter Wittig           True\n",
              "Peter Ammon            True\n",
              "Klaus Scharioth        True\n",
              "dtype: bool"
            ]
          },
          "metadata": {},
          "execution_count": 43
        }
      ]
    },
    {
      "cell_type": "code",
      "metadata": {
        "colab": {
          "base_uri": "https://localhost:8080/"
        },
        "id": "2b2lSuVmz7RF",
        "outputId": "aea922e2-8e98-46f1-8ceb-f87f9e85631f"
      },
      "source": [
        "\n",
        "ambassadors.drop_duplicates()"
      ],
      "execution_count": null,
      "outputs": [
        {
          "output_type": "execute_result",
          "data": {
            "text/plain": [
              "Gérard Araud                  France\n",
              "Kim Darroch           United Kingdom\n",
              "Armando Varricchio             Italy\n",
              "Peter Wittig                 Germany\n",
              "dtype: object"
            ]
          },
          "metadata": {},
          "execution_count": 44
        }
      ]
    },
    {
      "cell_type": "code",
      "metadata": {
        "colab": {
          "base_uri": "https://localhost:8080/"
        },
        "id": "EmssxXFPz-7S",
        "outputId": "a07c3118-eb21-4c9c-ce4d-ff1618c71dba"
      },
      "source": [
        "ambassadors.drop_duplicates(keep='last')"
      ],
      "execution_count": null,
      "outputs": [
        {
          "output_type": "execute_result",
          "data": {
            "text/plain": [
              "Gérard Araud                  France\n",
              "Peter Westmacott      United Kingdom\n",
              "Armando Varricchio             Italy\n",
              "Klaus Scharioth              Germany\n",
              "dtype: object"
            ]
          },
          "metadata": {},
          "execution_count": 45
        }
      ]
    },
    {
      "cell_type": "code",
      "metadata": {
        "colab": {
          "base_uri": "https://localhost:8080/"
        },
        "id": "B8nLYwqu0CUv",
        "outputId": "504077b7-15bd-4c85-8662-5164b042d9a0"
      },
      "source": [
        "ambassadors.drop_duplicates(keep=False)"
      ],
      "execution_count": null,
      "outputs": [
        {
          "output_type": "execute_result",
          "data": {
            "text/plain": [
              "Gérard Araud          France\n",
              "Armando Varricchio     Italy\n",
              "dtype: object"
            ]
          },
          "metadata": {},
          "execution_count": 46
        }
      ]
    },
    {
      "cell_type": "code",
      "metadata": {
        "id": "nIdz2g_b0H3-"
      },
      "source": [
        "players = pd.DataFrame({\n",
        "    'Name': [\n",
        "        'Kobe Bryant',\n",
        "        'LeBron James',\n",
        "        'Kobe Bryant',\n",
        "        'Carmelo Anthony',\n",
        "        'Kobe Bryant',\n",
        "    ],\n",
        "    'Pos': [\n",
        "        'SG',\n",
        "        'SF',\n",
        "        'SG',\n",
        "        'SF',\n",
        "        'SF'\n",
        "    ]\n",
        "})"
      ],
      "execution_count": null,
      "outputs": []
    },
    {
      "cell_type": "code",
      "metadata": {
        "colab": {
          "base_uri": "https://localhost:8080/",
          "height": 200
        },
        "id": "HijLAgB70JyQ",
        "outputId": "b45fa378-3026-4b00-c4d5-711970a8d6d3"
      },
      "source": [
        "players"
      ],
      "execution_count": null,
      "outputs": [
        {
          "output_type": "execute_result",
          "data": {
            "text/html": [
              "<div>\n",
              "<style scoped>\n",
              "    .dataframe tbody tr th:only-of-type {\n",
              "        vertical-align: middle;\n",
              "    }\n",
              "\n",
              "    .dataframe tbody tr th {\n",
              "        vertical-align: top;\n",
              "    }\n",
              "\n",
              "    .dataframe thead th {\n",
              "        text-align: right;\n",
              "    }\n",
              "</style>\n",
              "<table border=\"1\" class=\"dataframe\">\n",
              "  <thead>\n",
              "    <tr style=\"text-align: right;\">\n",
              "      <th></th>\n",
              "      <th>Name</th>\n",
              "      <th>Pos</th>\n",
              "    </tr>\n",
              "  </thead>\n",
              "  <tbody>\n",
              "    <tr>\n",
              "      <th>0</th>\n",
              "      <td>Kobe Bryant</td>\n",
              "      <td>SG</td>\n",
              "    </tr>\n",
              "    <tr>\n",
              "      <th>1</th>\n",
              "      <td>LeBron James</td>\n",
              "      <td>SF</td>\n",
              "    </tr>\n",
              "    <tr>\n",
              "      <th>2</th>\n",
              "      <td>Kobe Bryant</td>\n",
              "      <td>SG</td>\n",
              "    </tr>\n",
              "    <tr>\n",
              "      <th>3</th>\n",
              "      <td>Carmelo Anthony</td>\n",
              "      <td>SF</td>\n",
              "    </tr>\n",
              "    <tr>\n",
              "      <th>4</th>\n",
              "      <td>Kobe Bryant</td>\n",
              "      <td>SF</td>\n",
              "    </tr>\n",
              "  </tbody>\n",
              "</table>\n",
              "</div>"
            ],
            "text/plain": [
              "              Name Pos\n",
              "0      Kobe Bryant  SG\n",
              "1     LeBron James  SF\n",
              "2      Kobe Bryant  SG\n",
              "3  Carmelo Anthony  SF\n",
              "4      Kobe Bryant  SF"
            ]
          },
          "metadata": {},
          "execution_count": 48
        }
      ]
    },
    {
      "cell_type": "code",
      "metadata": {
        "colab": {
          "base_uri": "https://localhost:8080/"
        },
        "id": "4hz8m10C0Mns",
        "outputId": "9ea021cf-2321-467c-b93c-74adf522a7b2"
      },
      "source": [
        "players.duplicated()"
      ],
      "execution_count": null,
      "outputs": [
        {
          "output_type": "execute_result",
          "data": {
            "text/plain": [
              "0    False\n",
              "1    False\n",
              "2     True\n",
              "3    False\n",
              "4    False\n",
              "dtype: bool"
            ]
          },
          "metadata": {},
          "execution_count": 49
        }
      ]
    },
    {
      "cell_type": "code",
      "metadata": {
        "colab": {
          "base_uri": "https://localhost:8080/"
        },
        "id": "RVBQ3JB30Pll",
        "outputId": "3f71803c-b8c6-4005-d064-9f21f49f0d85"
      },
      "source": [
        "players.duplicated(subset=['Name'])"
      ],
      "execution_count": null,
      "outputs": [
        {
          "output_type": "execute_result",
          "data": {
            "text/plain": [
              "0    False\n",
              "1    False\n",
              "2     True\n",
              "3    False\n",
              "4     True\n",
              "dtype: bool"
            ]
          },
          "metadata": {},
          "execution_count": 50
        }
      ]
    },
    {
      "cell_type": "code",
      "metadata": {
        "colab": {
          "base_uri": "https://localhost:8080/"
        },
        "id": "j6JNEY9J0Zjs",
        "outputId": "fbb82779-5373-47bf-bc68-35cd4ca91423"
      },
      "source": [
        "players.duplicated(subset=['Name'], keep='last')"
      ],
      "execution_count": null,
      "outputs": [
        {
          "output_type": "execute_result",
          "data": {
            "text/plain": [
              "0     True\n",
              "1    False\n",
              "2     True\n",
              "3    False\n",
              "4    False\n",
              "dtype: bool"
            ]
          },
          "metadata": {},
          "execution_count": 51
        }
      ]
    },
    {
      "cell_type": "code",
      "metadata": {
        "id": "cjVpY19h0bti"
      },
      "source": [
        ""
      ],
      "execution_count": null,
      "outputs": []
    },
    {
      "cell_type": "markdown",
      "metadata": {
        "id": "DDlzsTKU0hqM"
      },
      "source": [
        "# **Splitting Columns**"
      ]
    },
    {
      "cell_type": "code",
      "metadata": {
        "id": "ib6oZ_p50mzW"
      },
      "source": [
        "df = pd.DataFrame({\n",
        "    'Data': [\n",
        "        '1987_M_US _1',\n",
        "        '1990?_M_UK_1',\n",
        "        '1992_F_US_2',\n",
        "        '1970?_M_   IT_1',\n",
        "        '1985_F_I  T_2'\n",
        "]})"
      ],
      "execution_count": null,
      "outputs": []
    },
    {
      "cell_type": "code",
      "metadata": {
        "colab": {
          "base_uri": "https://localhost:8080/",
          "height": 200
        },
        "id": "6P466KDo0qMi",
        "outputId": "5ddfc900-efe3-407a-b946-0976e25774ac"
      },
      "source": [
        "\n",
        "df"
      ],
      "execution_count": null,
      "outputs": [
        {
          "output_type": "execute_result",
          "data": {
            "text/html": [
              "<div>\n",
              "<style scoped>\n",
              "    .dataframe tbody tr th:only-of-type {\n",
              "        vertical-align: middle;\n",
              "    }\n",
              "\n",
              "    .dataframe tbody tr th {\n",
              "        vertical-align: top;\n",
              "    }\n",
              "\n",
              "    .dataframe thead th {\n",
              "        text-align: right;\n",
              "    }\n",
              "</style>\n",
              "<table border=\"1\" class=\"dataframe\">\n",
              "  <thead>\n",
              "    <tr style=\"text-align: right;\">\n",
              "      <th></th>\n",
              "      <th>Data</th>\n",
              "    </tr>\n",
              "  </thead>\n",
              "  <tbody>\n",
              "    <tr>\n",
              "      <th>0</th>\n",
              "      <td>1987_M_US _1</td>\n",
              "    </tr>\n",
              "    <tr>\n",
              "      <th>1</th>\n",
              "      <td>1990?_M_UK_1</td>\n",
              "    </tr>\n",
              "    <tr>\n",
              "      <th>2</th>\n",
              "      <td>1992_F_US_2</td>\n",
              "    </tr>\n",
              "    <tr>\n",
              "      <th>3</th>\n",
              "      <td>1970?_M_   IT_1</td>\n",
              "    </tr>\n",
              "    <tr>\n",
              "      <th>4</th>\n",
              "      <td>1985_F_I  T_2</td>\n",
              "    </tr>\n",
              "  </tbody>\n",
              "</table>\n",
              "</div>"
            ],
            "text/plain": [
              "              Data\n",
              "0     1987_M_US _1\n",
              "1     1990?_M_UK_1\n",
              "2      1992_F_US_2\n",
              "3  1970?_M_   IT_1\n",
              "4    1985_F_I  T_2"
            ]
          },
          "metadata": {},
          "execution_count": 53
        }
      ]
    },
    {
      "cell_type": "code",
      "metadata": {
        "colab": {
          "base_uri": "https://localhost:8080/"
        },
        "id": "ZusDhJgd0zMX",
        "outputId": "002852fc-2705-48a9-9db6-91e78c4f9dd2"
      },
      "source": [
        "df['Data'].str.split('_')"
      ],
      "execution_count": null,
      "outputs": [
        {
          "output_type": "execute_result",
          "data": {
            "text/plain": [
              "0       [1987, M, US , 1]\n",
              "1       [1990?, M, UK, 1]\n",
              "2        [1992, F, US, 2]\n",
              "3    [1970?, M,    IT, 1]\n",
              "4      [1985, F, I  T, 2]\n",
              "Name: Data, dtype: object"
            ]
          },
          "metadata": {},
          "execution_count": 54
        }
      ]
    },
    {
      "cell_type": "code",
      "metadata": {
        "colab": {
          "base_uri": "https://localhost:8080/",
          "height": 200
        },
        "id": "SPSWKMhC00dr",
        "outputId": "f12daf17-0947-4a01-cb02-23790ce75a37"
      },
      "source": [
        "df['Data'].str.split('_', expand=True)"
      ],
      "execution_count": null,
      "outputs": [
        {
          "output_type": "execute_result",
          "data": {
            "text/html": [
              "<div>\n",
              "<style scoped>\n",
              "    .dataframe tbody tr th:only-of-type {\n",
              "        vertical-align: middle;\n",
              "    }\n",
              "\n",
              "    .dataframe tbody tr th {\n",
              "        vertical-align: top;\n",
              "    }\n",
              "\n",
              "    .dataframe thead th {\n",
              "        text-align: right;\n",
              "    }\n",
              "</style>\n",
              "<table border=\"1\" class=\"dataframe\">\n",
              "  <thead>\n",
              "    <tr style=\"text-align: right;\">\n",
              "      <th></th>\n",
              "      <th>0</th>\n",
              "      <th>1</th>\n",
              "      <th>2</th>\n",
              "      <th>3</th>\n",
              "    </tr>\n",
              "  </thead>\n",
              "  <tbody>\n",
              "    <tr>\n",
              "      <th>0</th>\n",
              "      <td>1987</td>\n",
              "      <td>M</td>\n",
              "      <td>US</td>\n",
              "      <td>1</td>\n",
              "    </tr>\n",
              "    <tr>\n",
              "      <th>1</th>\n",
              "      <td>1990?</td>\n",
              "      <td>M</td>\n",
              "      <td>UK</td>\n",
              "      <td>1</td>\n",
              "    </tr>\n",
              "    <tr>\n",
              "      <th>2</th>\n",
              "      <td>1992</td>\n",
              "      <td>F</td>\n",
              "      <td>US</td>\n",
              "      <td>2</td>\n",
              "    </tr>\n",
              "    <tr>\n",
              "      <th>3</th>\n",
              "      <td>1970?</td>\n",
              "      <td>M</td>\n",
              "      <td>IT</td>\n",
              "      <td>1</td>\n",
              "    </tr>\n",
              "    <tr>\n",
              "      <th>4</th>\n",
              "      <td>1985</td>\n",
              "      <td>F</td>\n",
              "      <td>I  T</td>\n",
              "      <td>2</td>\n",
              "    </tr>\n",
              "  </tbody>\n",
              "</table>\n",
              "</div>"
            ],
            "text/plain": [
              "       0  1      2  3\n",
              "0   1987  M    US   1\n",
              "1  1990?  M     UK  1\n",
              "2   1992  F     US  2\n",
              "3  1970?  M     IT  1\n",
              "4   1985  F   I  T  2"
            ]
          },
          "metadata": {},
          "execution_count": 55
        }
      ]
    },
    {
      "cell_type": "code",
      "metadata": {
        "id": "NTTvYWUQ08Lw"
      },
      "source": [
        "df = df['Data'].str.split('_', expand=True)"
      ],
      "execution_count": null,
      "outputs": []
    },
    {
      "cell_type": "code",
      "metadata": {
        "id": "dFXkssF10-iM"
      },
      "source": [
        "\n",
        "df.columns = ['Year', 'Sex', 'Country', 'No Children']"
      ],
      "execution_count": null,
      "outputs": []
    },
    {
      "cell_type": "code",
      "metadata": {
        "colab": {
          "base_uri": "https://localhost:8080/",
          "height": 200
        },
        "id": "J_zEltU91JDZ",
        "outputId": "ba9c44be-9e8f-42be-fa13-f2dc3e14e85b"
      },
      "source": [
        "df"
      ],
      "execution_count": null,
      "outputs": [
        {
          "output_type": "execute_result",
          "data": {
            "text/html": [
              "<div>\n",
              "<style scoped>\n",
              "    .dataframe tbody tr th:only-of-type {\n",
              "        vertical-align: middle;\n",
              "    }\n",
              "\n",
              "    .dataframe tbody tr th {\n",
              "        vertical-align: top;\n",
              "    }\n",
              "\n",
              "    .dataframe thead th {\n",
              "        text-align: right;\n",
              "    }\n",
              "</style>\n",
              "<table border=\"1\" class=\"dataframe\">\n",
              "  <thead>\n",
              "    <tr style=\"text-align: right;\">\n",
              "      <th></th>\n",
              "      <th>Year</th>\n",
              "      <th>Sex</th>\n",
              "      <th>Country</th>\n",
              "      <th>No Children</th>\n",
              "    </tr>\n",
              "  </thead>\n",
              "  <tbody>\n",
              "    <tr>\n",
              "      <th>0</th>\n",
              "      <td>1987</td>\n",
              "      <td>M</td>\n",
              "      <td>US</td>\n",
              "      <td>1</td>\n",
              "    </tr>\n",
              "    <tr>\n",
              "      <th>1</th>\n",
              "      <td>1990?</td>\n",
              "      <td>M</td>\n",
              "      <td>UK</td>\n",
              "      <td>1</td>\n",
              "    </tr>\n",
              "    <tr>\n",
              "      <th>2</th>\n",
              "      <td>1992</td>\n",
              "      <td>F</td>\n",
              "      <td>US</td>\n",
              "      <td>2</td>\n",
              "    </tr>\n",
              "    <tr>\n",
              "      <th>3</th>\n",
              "      <td>1970?</td>\n",
              "      <td>M</td>\n",
              "      <td>IT</td>\n",
              "      <td>1</td>\n",
              "    </tr>\n",
              "    <tr>\n",
              "      <th>4</th>\n",
              "      <td>1985</td>\n",
              "      <td>F</td>\n",
              "      <td>I  T</td>\n",
              "      <td>2</td>\n",
              "    </tr>\n",
              "  </tbody>\n",
              "</table>\n",
              "</div>"
            ],
            "text/plain": [
              "    Year Sex Country No Children\n",
              "0   1987   M     US            1\n",
              "1  1990?   M      UK           1\n",
              "2   1992   F      US           2\n",
              "3  1970?   M      IT           1\n",
              "4   1985   F    I  T           2"
            ]
          },
          "metadata": {},
          "execution_count": 58
        }
      ]
    },
    {
      "cell_type": "code",
      "metadata": {
        "colab": {
          "base_uri": "https://localhost:8080/"
        },
        "id": "FmTwNgtZ1Tv2",
        "outputId": "36b4c8a3-7000-4a77-a520-e0477f2a70fd"
      },
      "source": [
        "df['Year'].str.contains('\\?')"
      ],
      "execution_count": null,
      "outputs": [
        {
          "output_type": "execute_result",
          "data": {
            "text/plain": [
              "0    False\n",
              "1     True\n",
              "2    False\n",
              "3     True\n",
              "4    False\n",
              "Name: Year, dtype: bool"
            ]
          },
          "metadata": {},
          "execution_count": 59
        }
      ]
    },
    {
      "cell_type": "code",
      "metadata": {
        "colab": {
          "base_uri": "https://localhost:8080/"
        },
        "id": "2iK13KUM1Xl_",
        "outputId": "232a3b99-492d-48b5-d317-5823bcf20e53"
      },
      "source": [
        "df['Country'].str.contains('U')"
      ],
      "execution_count": null,
      "outputs": [
        {
          "output_type": "execute_result",
          "data": {
            "text/plain": [
              "0     True\n",
              "1     True\n",
              "2     True\n",
              "3    False\n",
              "4    False\n",
              "Name: Country, dtype: bool"
            ]
          },
          "metadata": {},
          "execution_count": 60
        }
      ]
    },
    {
      "cell_type": "code",
      "metadata": {
        "colab": {
          "base_uri": "https://localhost:8080/"
        },
        "id": "SmwfHEPb1dbY",
        "outputId": "edb19666-6a78-4eaa-c012-e77f17966857"
      },
      "source": [
        "df['Country'].str.strip()"
      ],
      "execution_count": null,
      "outputs": [
        {
          "output_type": "execute_result",
          "data": {
            "text/plain": [
              "0      US\n",
              "1      UK\n",
              "2      US\n",
              "3      IT\n",
              "4    I  T\n",
              "Name: Country, dtype: object"
            ]
          },
          "metadata": {},
          "execution_count": 61
        }
      ]
    },
    {
      "cell_type": "code",
      "metadata": {
        "colab": {
          "base_uri": "https://localhost:8080/"
        },
        "id": "EWVHfcC41mif",
        "outputId": "ed822ff1-f9e1-4de6-e178-08c292ffbf2a"
      },
      "source": [
        "df['Country'].str.replace(' ', '')"
      ],
      "execution_count": null,
      "outputs": [
        {
          "output_type": "execute_result",
          "data": {
            "text/plain": [
              "0    US\n",
              "1    UK\n",
              "2    US\n",
              "3    IT\n",
              "4    IT\n",
              "Name: Country, dtype: object"
            ]
          },
          "metadata": {},
          "execution_count": 62
        }
      ]
    },
    {
      "cell_type": "code",
      "metadata": {
        "colab": {
          "base_uri": "https://localhost:8080/"
        },
        "id": "3IF0ej8s1sJs",
        "outputId": "a70a961a-8c81-4c5a-dc39-96e06910e00b"
      },
      "source": [
        "\n",
        "df['Year'].str.replace(r'(?P<year>\\d{4})\\?', lambda m: m.group('year'))"
      ],
      "execution_count": null,
      "outputs": [
        {
          "output_type": "execute_result",
          "data": {
            "text/plain": [
              "0    1987\n",
              "1    1990\n",
              "2    1992\n",
              "3    1970\n",
              "4    1985\n",
              "Name: Year, dtype: object"
            ]
          },
          "metadata": {},
          "execution_count": 63
        }
      ]
    },
    {
      "cell_type": "code",
      "metadata": {
        "id": "eIVGqFD06k8E"
      },
      "source": [
        ""
      ],
      "execution_count": null,
      "outputs": []
    }
  ]
}